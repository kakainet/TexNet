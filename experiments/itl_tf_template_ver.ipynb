{
  "nbformat": 4,
  "nbformat_minor": 0,
  "metadata": {
    "colab": {
      "name": "itl_mtr",
      "provenance": [],
      "collapsed_sections": []
    },
    "kernelspec": {
      "name": "python3",
      "display_name": "Python 3"
    },
    "accelerator": "GPU"
  },
  "cells": [
    {
      "cell_type": "markdown",
      "metadata": {
        "id": "xyRlX361s7QH"
      },
      "source": [
        "# Imports"
      ]
    },
    {
      "cell_type": "code",
      "metadata": {
        "id": "j0aLUeYIr12N"
      },
      "source": [
        "import tensorflow as tf\n",
        "from math import sqrt\n",
        "import numpy as np\n",
        "import random\n",
        "import sys, os\n",
        "import cv2\n",
        "from keras.models import Sequential\n",
        "from keras.layers import Dense, Dropout, Flatten, GlobalAveragePooling2D\n",
        "from keras.layers import Conv2D, MaxPooling2D\n",
        "import keras.losses\n",
        "import keras.optimizers\n",
        "from keras.models import Sequential\n",
        "from keras.layers import Dense, Activation, Dropout\n",
        "from keras.optimizers import SGD, Adam\n",
        "from keras.models import Sequential\n",
        "from keras.layers import Dense, Activation, Dropout, Convolution2D, MaxPooling2D, Flatten, BatchNormalization\n",
        "from keras.applications import MobileNetV2\n",
        "from keras.preprocessing import image_dataset_from_directory\n",
        "import subprocess, os, shutil\n",
        "\n",
        "\n",
        "from keras.utils.np_utils import to_categorical   \n",
        "import subprocess, os, shutil"
      ],
      "execution_count": 69,
      "outputs": []
    },
    {
      "cell_type": "code",
      "metadata": {
        "id": "3-NUvz34soSE"
      },
      "source": [
        "N_CLASSES=10"
      ],
      "execution_count": 23,
      "outputs": []
    },
    {
      "cell_type": "markdown",
      "metadata": {
        "id": "QJ_Fy9KDzLN6"
      },
      "source": [
        "# Mounting drive"
      ]
    },
    {
      "cell_type": "code",
      "metadata": {
        "id": "LMWmDoZLtRLA",
        "outputId": "4ede703b-27b2-472f-8a5e-8ca5296353d3",
        "colab": {
          "base_uri": "https://localhost:8080/",
          "height": 36
        }
      },
      "source": [
        "import subprocess, os, shutil\n",
        "subprocess.run(['apt-get', 'install', 'unzip'])"
      ],
      "execution_count": 24,
      "outputs": [
        {
          "output_type": "execute_result",
          "data": {
            "text/plain": [
              "CompletedProcess(args=['apt-get', 'install', 'unzip'], returncode=0)"
            ]
          },
          "metadata": {
            "tags": []
          },
          "execution_count": 24
        }
      ]
    },
    {
      "cell_type": "code",
      "metadata": {
        "id": "rM_oJACtL1WX"
      },
      "source": [
        "#from google.colab import drive\n",
        "#drive.mount('drive')"
      ],
      "execution_count": 25,
      "outputs": []
    },
    {
      "cell_type": "code",
      "metadata": {
        "id": "MFs1MEIYzOaw",
        "outputId": "0c193cf9-569d-4722-c981-0277ad105338",
        "colab": {
          "base_uri": "https://localhost:8080/",
          "height": 55
        }
      },
      "source": [
        "for folder in ['itl_dataset', 'output_proper', 'output_bbox', 'output_proper', 'output_color']:\n",
        "  if os.path.exists(folder):\n",
        "    shutil.rmtree(folder)\n",
        "print(os.getcwd())\n",
        "VERSION=8\n",
        "subprocess.run(['wget', f'http://students.mimuw.edu.pl/~mt406390/machine_learning/itl_dataset_v{VERSION}.zip'])\n",
        "subprocess.run(['unzip', f'itl_dataset_v{VERSION}.zip'], stdout=subprocess.DEVNULL, stderr=subprocess.DEVNULL)"
      ],
      "execution_count": 26,
      "outputs": [
        {
          "output_type": "stream",
          "text": [
            "/content\n"
          ],
          "name": "stdout"
        },
        {
          "output_type": "execute_result",
          "data": {
            "text/plain": [
              "CompletedProcess(args=['unzip', 'itl_dataset_v8.zip'], returncode=1)"
            ]
          },
          "metadata": {
            "tags": []
          },
          "execution_count": 26
        }
      ]
    },
    {
      "cell_type": "markdown",
      "metadata": {
        "id": "4tpicxoutRsH"
      },
      "source": [
        "# Loading data"
      ]
    },
    {
      "cell_type": "code",
      "metadata": {
        "id": "qjTmpyns4D3Z"
      },
      "source": [
        "import json\n",
        "with open('annotations.json', 'r') as flabels:\n",
        "  annots = json.load(flabels)\n",
        "\n",
        "with open('config/operators.json', 'r') as operatorsfile:\n",
        "  operators = json.load(operatorsfile)\n",
        "\n",
        "annots = list(filter(lambda x: len(x['exprs']) != 0, annots))"
      ],
      "execution_count": 27,
      "outputs": []
    },
    {
      "cell_type": "code",
      "metadata": {
        "id": "jKCNcPUT8znB",
        "outputId": "fcafbd74-12b7-4ce7-c303-6f9c824d0fac",
        "colab": {
          "base_uri": "https://localhost:8080/",
          "height": 36
        }
      },
      "source": [
        "print(len(annots))"
      ],
      "execution_count": 28,
      "outputs": [
        {
          "output_type": "stream",
          "text": [
            "6127\n"
          ],
          "name": "stdout"
        }
      ]
    },
    {
      "cell_type": "code",
      "metadata": {
        "id": "oIYzESojbutV",
        "outputId": "7a546695-342f-488e-8ff6-6f1d4ca6389a",
        "colab": {
          "base_uri": "https://localhost:8080/",
          "height": 94
        }
      },
      "source": [
        "from keras.utils.np_utils import to_categorical   \n",
        "\n",
        "op_labels = {j: to_categorical(i, num_classes=N_CLASSES) for i, j in enumerate(operators.keys())}\n",
        "rev_operators = {i: j for i, j in enumerate(operators.keys())}\n",
        "op_operators = {k : operators[k]['operands'] for k in operators.keys() }\n",
        "\n",
        "print(op_labels)\n",
        "print(rev_operators)\n",
        "print(op_operators)\n"
      ],
      "execution_count": 29,
      "outputs": [
        {
          "output_type": "stream",
          "text": [
            "{'add': array([1., 0., 0., 0., 0., 0., 0., 0., 0., 0.], dtype=float32), 'sub': array([0., 1., 0., 0., 0., 0., 0., 0., 0., 0.], dtype=float32), 'mul': array([0., 0., 1., 0., 0., 0., 0., 0., 0., 0.], dtype=float32), 'frac': array([0., 0., 0., 1., 0., 0., 0., 0., 0., 0.], dtype=float32), 'sqrt': array([0., 0., 0., 0., 1., 0., 0., 0., 0., 0.], dtype=float32), 'int': array([0., 0., 0., 0., 0., 1., 0., 0., 0., 0.], dtype=float32), 'par': array([0., 0., 0., 0., 0., 0., 1., 0., 0., 0.], dtype=float32), 'fpar': array([0., 0., 0., 0., 0., 0., 0., 1., 0., 0.], dtype=float32), 'ffpar': array([0., 0., 0., 0., 0., 0., 0., 0., 1., 0.], dtype=float32), 'gpar': array([0., 0., 0., 0., 0., 0., 0., 0., 0., 1.], dtype=float32)}\n",
            "{0: 'add', 1: 'sub', 2: 'mul', 3: 'frac', 4: 'sqrt', 5: 'int', 6: 'par', 7: 'fpar', 8: 'ffpar', 9: 'gpar'}\n",
            "{'add': 2, 'sub': 2, 'mul': 2, 'frac': 2, 'sqrt': 1, 'int': 1, 'par': 1, 'fpar': 1, 'ffpar': 1, 'gpar': 1}\n"
          ],
          "name": "stdout"
        }
      ]
    },
    {
      "cell_type": "code",
      "metadata": {
        "id": "deao-kkPtAYR"
      },
      "source": [
        "POINTS_PER_BOX=4\n",
        "INPUT_SHAPE=(224, 224, 1)\n",
        "N_CLASSES = len(op_labels)"
      ],
      "execution_count": 30,
      "outputs": []
    },
    {
      "cell_type": "code",
      "metadata": {
        "id": "R0mRW7vX6nbi",
        "outputId": "28c1469c-30eb-4a68-d8c5-d8e14f67ad82",
        "colab": {
          "base_uri": "https://localhost:8080/",
          "height": 55
        }
      },
      "source": [
        "\n",
        "\n",
        "\n",
        "def get_ds_shape(annots, operators):\n",
        "  possible_operands = sorted([\n",
        "      operators[k]['operands'] for k in operators.keys()\n",
        "  ])\n",
        "\n",
        "  print(possible_operands)\n",
        "\n",
        "  ds_shape =  {\n",
        "      operands_no: 0 for operands_no in possible_operands\n",
        "  }\n",
        "\n",
        "  for a in annots:\n",
        "    ds_shape[op_operators[a['op']]]+=1\n",
        "\n",
        "  return ds_shape, possible_operands\n",
        "\n",
        "\n",
        "ds_shape, possible_operands = get_ds_shape(annots, operators)\n",
        "print(ds_shape)"
      ],
      "execution_count": 31,
      "outputs": [
        {
          "output_type": "stream",
          "text": [
            "[1, 1, 1, 1, 1, 1, 2, 2, 2, 2]\n",
            "{1: 1846, 2: 4281}\n"
          ],
          "name": "stdout"
        }
      ]
    },
    {
      "cell_type": "code",
      "metadata": {
        "id": "DfHBPxE_8ila"
      },
      "source": [
        "def get_datasets(ds_shape, annots):\n",
        "  datasets = {\n",
        "      i: {\n",
        "          'operators': np.zeros((N, N_CLASSES)),\n",
        "          'bboxes': np.zeros((N, i, POINTS_PER_BOX)),\n",
        "          'paths': [None] * N,\n",
        "          'size': 0\n",
        "      } for i, N in ds_shape.items()\n",
        "  }\n",
        "\n",
        "  for j, a in enumerate(annots):\n",
        "    idx = int(a['name'][len('eq') : a['name'].find('.')])\n",
        "    operands_type = op_operators[a['op']]\n",
        "    #assert(j == idx)\n",
        "\n",
        "    idx = datasets[operands_type]['size']\n",
        "    datasets[operands_type]['size']+=1\n",
        "\n",
        "    datasets[operands_type]['operators'][idx] = op_labels[a['op']]\n",
        "\n",
        "    for k in range(len(a['exprs'])):\n",
        "        datasets[operands_type]['bboxes'][idx][k] = np.array(a['exprs'][k])\n",
        "\n",
        "    datasets[operands_type]['paths'][idx] = os.path.join('output_proper', a['name'])\n",
        "    \n",
        "\n",
        "  return datasets\n",
        "\n",
        "\n",
        "def merge_datasets(dataset_list, operands):\n",
        "  assert(operands == sorted(operands))\n",
        "\n",
        "  return {\n",
        "      'operators': np.concatenate([dataset_list[j]['operators'] for j in operands]),\n",
        "          'bboxes': None, # not used in merged\n",
        "          'paths': sum((dataset_list[j]['paths'] for j in operands), []),\n",
        "          'size': sum(dataset_list[j]['size'] for j in operands)\n",
        "  }"
      ],
      "execution_count": 32,
      "outputs": []
    },
    {
      "cell_type": "code",
      "metadata": {
        "id": "jc0p2rhf7RGS"
      },
      "source": [
        "datasets = get_datasets(ds_shape, annots)\n",
        "turbo_dataset = merge_datasets(datasets, possible_operands)"
      ],
      "execution_count": 33,
      "outputs": []
    },
    {
      "cell_type": "code",
      "metadata": {
        "id": "dhBh9GYLF-VV"
      },
      "source": [
        ""
      ],
      "execution_count": null,
      "outputs": []
    },
    {
      "cell_type": "code",
      "metadata": {
        "id": "-GhJZgZNbokq"
      },
      "source": [
        "from google.colab.patches import cv2_imshow\n",
        "\n",
        "def load_img(path):\n",
        "  return 255-cv2.cvtColor(imread(path), cv2.COLOR_BGR2GRAY).reshape(INPUT_SHAPE)"
      ],
      "execution_count": 34,
      "outputs": []
    },
    {
      "cell_type": "code",
      "metadata": {
        "id": "PWaGw2qdfn2G"
      },
      "source": [
        "from skimage.io import imread\n",
        "from skimage.transform import resize\n",
        "import numpy as np\n",
        "import math\n",
        "from keras.utils import Sequence\n",
        "\n",
        "class ITLSequence(Sequence):\n",
        "\n",
        "    def __init__(self, x_set, y_set, batch_size):\n",
        "        self.x, self.y = x_set, y_set\n",
        "        self.batch_size = batch_size\n",
        "\n",
        "    def __len__(self):\n",
        "        return math.ceil(len(self.x) / self.batch_size)\n",
        "\n",
        "    def __getitem__(self, idx):\n",
        "        batch_x = self.x[idx * self.batch_size:(idx + 1) *\n",
        "        self.batch_size]\n",
        "        batch_y = self.y[idx * self.batch_size:(idx + 1) *\n",
        "        self.batch_size]\n",
        "        return np.array([\n",
        "            load_img(file_name) for file_name in batch_x], dtype=np.float64), batch_y\n",
        "\n",
        "\n",
        "class ITLSequenceBox(Sequence):\n",
        "    def __init__(self, paths, bboxes, batch_size, bboxes_no):\n",
        "        self.x = paths\n",
        "        \n",
        "        boxes = bboxes.copy()\n",
        "\n",
        "        #boxes[..., 2:] **= 2\n",
        "        #boxes[..., ::2] /= INPUT_SHAPE[0]\n",
        "        #boxes[..., 1::2] /= INPUT_SHAPE[1]\n",
        "        self.y = boxes.reshape((-1, bboxes_no*POINTS_PER_BOX))\n",
        "        \n",
        "        self.batch_size = batch_size\n",
        "\n",
        "    def __len__(self):\n",
        "        return math.ceil(len(self.x) / self.batch_size)\n",
        "\n",
        "    def __getitem__(self, idx):\n",
        "        batch_x = self.x[idx * self.batch_size:(idx + 1) *\n",
        "        self.batch_size]\n",
        "        batch_y = self.y[idx * self.batch_size:(idx + 1) *\n",
        "        self.batch_size]\n",
        "        return np.array([\n",
        "            load_img(file_name) for file_name in batch_x], dtype=np.float64), batch_y\n",
        "\n"
      ],
      "execution_count": 136,
      "outputs": []
    },
    {
      "cell_type": "code",
      "metadata": {
        "id": "4JTI37gApXpt"
      },
      "source": [
        "def restore_scale(p):\n",
        "  return (p[0] * INPUT_SHAPE[0], p[1] * INPUT_SHAPE[1], (p[2] * INPUT_SHAPE[0]), (p[3] * INPUT_SHAPE[1]))\n",
        "\n",
        "\n",
        "def restore_scale2(p):\n",
        "  return (p[0], p[1], p[2], p[3])"
      ],
      "execution_count": 137,
      "outputs": []
    },
    {
      "cell_type": "code",
      "metadata": {
        "id": "LDZiAj97JAT8",
        "outputId": "8645a35b-26ba-4f56-a00f-994b72bdbc25",
        "colab": {
          "base_uri": "https://localhost:8080/",
          "height": 94
        }
      },
      "source": [
        "annots[0]"
      ],
      "execution_count": 138,
      "outputs": [
        {
          "output_type": "execute_result",
          "data": {
            "text/plain": [
              "{'exprs': [[18, 91, 86, 40], [119, 101, 84, 19]],\n",
              " 'label': '\\\\int f\\\\left(y-8\\\\right) \\\\cdot f\\\\left(3c \\\\cdot \\\\left(bc\\\\right)\\\\right)',\n",
              " 'name': 'eq0.png',\n",
              " 'op': 'mul'}"
            ]
          },
          "metadata": {
            "tags": []
          },
          "execution_count": 138
        }
      ]
    },
    {
      "cell_type": "code",
      "metadata": {
        "id": "vTru_Y281cg3",
        "outputId": "f5ba8b2a-be2d-4362-fb00-0f79e5503863",
        "colab": {
          "base_uri": "https://localhost:8080/",
          "height": 241
        }
      },
      "source": [
        "def show_input(dataset, i):\n",
        "    cv2img = load_img(dataset['paths'][i])\n",
        "    cv2img = cv2.cvtColor(cv2img, cv2.COLOR_GRAY2BGR)\n",
        "    for x, y, dx, dy in dataset['bboxes'][i]:\n",
        "        cv2.rectangle(cv2img, (int(x), int(y)), (int(x+dx), int(y+dy)), [0,255, 0], 1)\n",
        "    cv2_imshow(cv2img)  \n",
        "\n",
        "show_input(datasets[2], 2001)"
      ],
      "execution_count": 139,
      "outputs": [
        {
          "output_type": "display_data",
          "data": {
            "image/png": "[encoded data removed]",
            "text/plain": [
              "<PIL.Image.Image image mode=RGB size=224x224 at 0x7F69C9D25DD8>"
            ]
          },
          "metadata": {
            "tags": []
          }
        }
      ]
    },
    {
      "cell_type": "code",
      "metadata": {
        "id": "LCr4exHfiAlg"
      },
      "source": [
        "itlseq = ITLSequence(turbo_dataset['paths'], turbo_dataset['operators'], 64)\n",
        "\n",
        "BOXES_SUPPORTED=1\n",
        "bbox_seq = ITLSequenceBox(datasets[BOXES_SUPPORTED]['paths'], datasets[BOXES_SUPPORTED]['bboxes'], 64, BOXES_SUPPORTED)"
      ],
      "execution_count": 140,
      "outputs": []
    },
    {
      "cell_type": "code",
      "metadata": {
        "id": "hHjFx2f44N44",
        "outputId": "429ec07c-77c6-431b-a941-8df3b709a35c",
        "colab": {
          "base_uri": "https://localhost:8080/",
          "height": 36
        }
      },
      "source": [
        "print(len(op_labels))"
      ],
      "execution_count": 141,
      "outputs": [
        {
          "output_type": "stream",
          "text": [
            "10\n"
          ],
          "name": "stdout"
        }
      ]
    },
    {
      "cell_type": "markdown",
      "metadata": {
        "id": "YQHjzpcHtT3Z"
      },
      "source": [
        "# Model\n"
      ]
    },
    {
      "cell_type": "code",
      "metadata": {
        "id": "9mE0v_zGtFdo"
      },
      "source": [
        "from pdb import set_trace\n",
        "import tensorflow as tf\n",
        "\n",
        "def get_model_operator(verbose=False):\n",
        "    model = tf.keras.applications.MobileNetV2(weights=None, classes=len(op_labels), input_shape=INPUT_SHAPE)\n",
        "    opt = Adam(learning_rate=0.001)\n",
        "    model.compile(loss='categorical_crossentropy', optimizer=opt, metrics=['accuracy'])\n",
        "    return model\n",
        "\n",
        "def get_model_box(boxes_no, verbose=False):\n",
        "    model = Sequential()\n",
        "    model.add(Conv2D(8, kernel_size=(5, 5), activation='relu', input_shape=INPUT_SHAPE))\n",
        "    model.add(BatchNormalization())\n",
        "    model.add(Conv2D(16, kernel_size=(5, 5), activation='relu'))\n",
        "    model.add(Conv2D(16, kernel_size=(5, 5), activation='relu'))\n",
        "    model.add(Conv2D(16, kernel_size=(5, 5), activation='relu'))\n",
        "    model.add(Flatten())\n",
        "    model.add(Dropout(0.25))\n",
        "    model.add(Dense(boxes_no*4))\n",
        "\n",
        "    model.summary()\n",
        "    model.compile('adam', 'mse')\n",
        "    return model\n",
        "\n",
        "def get_model_box2(boxes_no, verbose=False):\n",
        "    model = Sequential()   \n",
        "    model.add(tf.keras.applications.MobileNetV2(weights=None, include_top=False, input_shape=INPUT_SHAPE)) \n",
        "    model.add(Conv2D(32, kernel_size=(5, 5), activation='relu'))\n",
        "    model.add(Flatten())\n",
        "    model.add(Dense(64, activation='relu'))\n",
        "    model.add(Dropout(0.25))\n",
        "    model.add(Dense(boxes_no*4))\n",
        "\n",
        "    if verbose:\n",
        "      model.summary()\n",
        "\n",
        "    model.compile('adam', 'mse')\n",
        "\n",
        "    return model\n"
      ],
      "execution_count": 142,
      "outputs": []
    },
    {
      "cell_type": "code",
      "metadata": {
        "id": "xY7jAvtmtNDs"
      },
      "source": [
        "mdl = get_model_operator()"
      ],
      "execution_count": 143,
      "outputs": []
    },
    {
      "cell_type": "code",
      "metadata": {
        "id": "VgZgLrvGDLlo",
        "outputId": "03d36e66-d006-4263-d229-fa909f091361",
        "colab": {
          "base_uri": "https://localhost:8080/",
          "height": 36
        }
      },
      "source": [
        "#mdl.fit(x=itlseq, batch_size=64, epochs=1)\n",
        "print(datasets[BOXES_SUPPORTED]['paths'][:2])"
      ],
      "execution_count": 144,
      "outputs": [
        {
          "output_type": "stream",
          "text": [
            "['output_proper/eq3.png', 'output_proper/eq5.png']\n"
          ],
          "name": "stdout"
        }
      ]
    },
    {
      "cell_type": "code",
      "metadata": {
        "id": "hVe1MUwtWWnq",
        "outputId": "78c542ff-9e7c-4eeb-a4b4-a8fe22729ff8",
        "colab": {
          "base_uri": "https://localhost:8080/",
          "height": 478
        }
      },
      "source": [
        "bmdl2 = get_model_box(BOXES_SUPPORTED)"
      ],
      "execution_count": 145,
      "outputs": [
        {
          "output_type": "stream",
          "text": [
            "Model: \"sequential_10\"\n",
            "_________________________________________________________________\n",
            "Layer (type)                 Output Shape              Param #   \n",
            "=================================================================\n",
            "conv2d_28 (Conv2D)           (None, 220, 220, 8)       208       \n",
            "_________________________________________________________________\n",
            "batch_normalization_6 (Batch (None, 220, 220, 8)       32        \n",
            "_________________________________________________________________\n",
            "conv2d_29 (Conv2D)           (None, 216, 216, 16)      3216      \n",
            "_________________________________________________________________\n",
            "conv2d_30 (Conv2D)           (None, 212, 212, 16)      6416      \n",
            "_________________________________________________________________\n",
            "conv2d_31 (Conv2D)           (None, 208, 208, 16)      6416      \n",
            "_________________________________________________________________\n",
            "flatten_10 (Flatten)         (None, 692224)            0         \n",
            "_________________________________________________________________\n",
            "dropout_10 (Dropout)         (None, 692224)            0         \n",
            "_________________________________________________________________\n",
            "dense_14 (Dense)             (None, 4)                 2768900   \n",
            "=================================================================\n",
            "Total params: 2,785,188\n",
            "Trainable params: 2,785,172\n",
            "Non-trainable params: 16\n",
            "_________________________________________________________________\n"
          ],
          "name": "stdout"
        }
      ]
    },
    {
      "cell_type": "code",
      "metadata": {
        "id": "oqCj-emcMhoz",
        "outputId": "55653c41-69e3-4ea6-9028-ccf9e4ab3fad",
        "colab": {
          "base_uri": "https://localhost:8080/",
          "height": 459
        }
      },
      "source": [
        "bmdl2.fit(x=bbox_seq, batch_size=64, epochs=10)"
      ],
      "execution_count": 146,
      "outputs": [
        {
          "output_type": "stream",
          "text": [
            "Epoch 1/10\n",
            " 2/29 [=>............................] - ETA: 3s - loss: 4046.7295WARNING:tensorflow:Callbacks method `on_train_batch_end` is slow compared to the batch time (batch time: 0.0632s vs `on_train_batch_end` time: 0.1006s). Check your callbacks.\n",
            "29/29 [==============================] - 4s 149ms/step - loss: 1658.9072\n",
            "Epoch 2/10\n",
            "29/29 [==============================] - 4s 149ms/step - loss: 133.9624\n",
            "Epoch 3/10\n",
            "29/29 [==============================] - 4s 149ms/step - loss: 68.0861\n",
            "Epoch 4/10\n",
            "29/29 [==============================] - 4s 148ms/step - loss: 45.7306\n",
            "Epoch 5/10\n",
            "29/29 [==============================] - 4s 150ms/step - loss: 33.8303\n",
            "Epoch 6/10\n",
            "29/29 [==============================] - 4s 148ms/step - loss: 24.8732\n",
            "Epoch 7/10\n",
            "29/29 [==============================] - 4s 149ms/step - loss: 17.9855\n",
            "Epoch 8/10\n",
            "29/29 [==============================] - 4s 149ms/step - loss: 15.6432\n",
            "Epoch 9/10\n",
            "29/29 [==============================] - 4s 149ms/step - loss: 13.1776\n",
            "Epoch 10/10\n",
            "29/29 [==============================] - 4s 148ms/step - loss: 10.9026\n"
          ],
          "name": "stdout"
        },
        {
          "output_type": "execute_result",
          "data": {
            "text/plain": [
              "<tensorflow.python.keras.callbacks.History at 0x7f6b3490d278>"
            ]
          },
          "metadata": {
            "tags": []
          },
          "execution_count": 146
        }
      ]
    },
    {
      "cell_type": "code",
      "metadata": {
        "id": "ZrOXSCxQsaNu"
      },
      "source": [
        "import cv2\n",
        "from google.colab.patches import cv2_imshow\n",
        "def visualize(path, idx, model):\n",
        "  infer = load_img(path)\n",
        "  cv2img = load_img(path)\n",
        "  cv2_imshow(cv2img)\n",
        "  cv2img=cv2.cvtColor(cv2img, cv2.COLOR_GRAY2BGR)\n",
        "  batch = np.zeros((1,*INPUT_SHAPE), dtype=np.float64)\n",
        "  batch[0] = infer\n",
        "  points=model.predict_on_batch(batch)[0]\n",
        "  predicted_boxes_no = len(points) / POINTS_PER_BOX\n",
        "  print(points)\n",
        "  def draw_rect(x,y,dx,dy):\n",
        "    cv2.rectangle(cv2img, (int(x), int(y)), (int(x+dx), int(y+dy)), [0,0,255], 3)\n",
        "\n",
        "  for j in range(0, len(points), POINTS_PER_BOX):\n",
        "    x,y,dx,dy = restore_scale2((points[j], points[j+1], points[j+2], points[j+3]))\n",
        "    draw_rect(x,y,dx,dy)\n",
        "\n",
        "  print(idx)\n",
        "  cv2_imshow(cv2img)\n",
        "\n",
        "\n"
      ],
      "execution_count": 147,
      "outputs": []
    },
    {
      "cell_type": "code",
      "metadata": {
        "id": "fXmnWY_kf7CX",
        "outputId": "89509a48-7631-4e72-ea94-188d1eb4add8",
        "colab": {
          "base_uri": "https://localhost:8080/",
          "height": 1000
        }
      },
      "source": [
        "for j in range(2):\n",
        "  visualize(datasets[BOXES_SUPPORTED]['paths'][j], j, bmdl2)"
      ],
      "execution_count": 148,
      "outputs": [
        {
          "output_type": "display_data",
          "data": {
            "image/png": "[encoded data removed]",
            "text/plain": [
              "<PIL.Image.Image image mode=RGB size=224x224 at 0x7F69C9A60518>"
            ]
          },
          "metadata": {
            "tags": []
          }
        },
        {
          "output_type": "stream",
          "text": [
            "WARNING:tensorflow:5 out of the last 20 calls to <function Model.make_predict_function.<locals>.predict_function at 0x7f6b3431e400> triggered tf.function retracing. Tracing is expensive and the excessive number of tracings could be due to (1) creating @tf.function repeatedly in a loop, (2) passing tensors with different shapes, (3) passing Python objects instead of tensors. For (1), please define your @tf.function outside of the loop. For (2), @tf.function has experimental_relax_shapes=True option that relaxes argument shapes that can avoid unnecessary retracing. For (3), please refer to https://www.tensorflow.org/tutorials/customization/performance#python_or_tensor_args and https://www.tensorflow.org/api_docs/python/tf/function for  more details.\n",
            "[ 63.168316  92.70474  120.99885   37.061504]\n",
            "0\n"
          ],
          "name": "stdout"
        },
        {
          "output_type": "display_data",
          "data": {
            "image/png": "[encoded data removed]",
            "text/plain": [
              "<PIL.Image.Image image mode=RGB size=224x224 at 0x7F69C7450E48>"
            ]
          },
          "metadata": {
            "tags": []
          }
        },
        {
          "output_type": "display_data",
          "data": {
            "image/png": "[encoded data removed]",
            "text/plain": [
              "<PIL.Image.Image image mode=RGB size=224x224 at 0x7F69C7450748>"
            ]
          },
          "metadata": {
            "tags": []
          }
        },
        {
          "output_type": "stream",
          "text": [
            "[126.24433   87.0942    22.004875  33.023487]\n",
            "1\n"
          ],
          "name": "stdout"
        },
        {
          "output_type": "display_data",
          "data": {
            "image/png": "[encoded data removed]",
            "text/plain": [
              "<PIL.Image.Image image mode=RGB size=224x224 at 0x7F6B3C520978>"
            ]
          },
          "metadata": {
            "tags": []
          }
        }
      ]
    },
    {
      "cell_type": "code",
      "metadata": {
        "id": "TCrfYJBDeD7T",
        "outputId": "bf9e6e30-a99e-494f-fd1a-308ee8bf9147",
        "colab": {
          "base_uri": "https://localhost:8080/",
          "height": 36
        }
      },
      "source": [
        "mdl.save('itl_op')"
      ],
      "execution_count": 128,
      "outputs": [
        {
          "output_type": "stream",
          "text": [
            "INFO:tensorflow:Assets written to: itl_op/assets\n"
          ],
          "name": "stdout"
        }
      ]
    },
    {
      "cell_type": "code",
      "metadata": {
        "id": "-LA9vr0nKk-8"
      },
      "source": [
        ""
      ],
      "execution_count": 128,
      "outputs": []
    }
  ]
}