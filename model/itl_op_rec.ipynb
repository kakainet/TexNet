{
  "nbformat": 4,
  "nbformat_minor": 0,
  "metadata": {
    "colab": {
      "name": "itl_op_rec",
      "provenance": [],
      "collapsed_sections": [],
      "toc_visible": true
    },
    "kernelspec": {
      "name": "python3",
      "display_name": "Python 3"
    },
    "accelerator": "GPU"
  },
  "cells": [
    {
      "cell_type": "markdown",
      "metadata": {
        "id": "xyRlX361s7QH",
        "colab_type": "text"
      },
      "source": [
        "# Imports"
      ]
    },
    {
      "cell_type": "code",
      "metadata": {
        "id": "j0aLUeYIr12N",
        "colab_type": "code",
        "colab": {}
      },
      "source": [
        "import numpy as np\n",
        "import random\n",
        "import sys, os\n",
        "import cv2\n",
        "from keras.models import Sequential\n",
        "from keras.layers import Dense, Dropout, Flatten, GlobalAveragePooling2D\n",
        "from keras.layers import Conv2D, MaxPooling2D\n",
        "import keras.losses\n",
        "import keras.optimizers\n",
        "from keras.models import Sequential\n",
        "from keras.layers import Dense, Activation, Dropout\n",
        "from keras.optimizers import SGD\n",
        "from keras.models import Sequential\n",
        "from keras.layers import Dense, Activation, Dropout, Convolution2D, MaxPooling2D, Flatten, BatchNormalization\n",
        "from keras.applications import MobileNetV2\n",
        "from keras.preprocessing import image_dataset_from_directory\n",
        "import subprocess, os, shutil"
      ],
      "execution_count": null,
      "outputs": []
    },
    {
      "cell_type": "markdown",
      "metadata": {
        "id": "QJ_Fy9KDzLN6",
        "colab_type": "text"
      },
      "source": [
        "# Mounting drive"
      ]
    },
    {
      "cell_type": "code",
      "metadata": {
        "id": "LMWmDoZLtRLA",
        "colab_type": "code",
        "colab": {}
      },
      "source": [
        "import subprocess, os, shutil\n",
        "subprocess.run(['apt-get', 'install', 'unzip'])\n"
      ],
      "execution_count": null,
      "outputs": []
    },
    {
      "cell_type": "code",
      "metadata": {
        "id": "rM_oJACtL1WX",
        "colab_type": "code",
        "colab": {}
      },
      "source": [
        "#from google.colab import drive\n",
        "#drive.mount('drive')"
      ],
      "execution_count": null,
      "outputs": []
    },
    {
      "cell_type": "code",
      "metadata": {
        "id": "MFs1MEIYzOaw",
        "colab_type": "code",
        "colab": {}
      },
      "source": [
        "\n",
        "#shutil.copytree('./drive/My Drive/itl/itl_dataset', './itl_dataset')\n",
        "for folder in ['itl_dataset', 'output_proper', 'output_bbox', 'output_proper', 'output_color']:\n",
        "  if os.path.exists(folder):\n",
        "    shutil.rmtree(folder)\n",
        "print(os.getcwd())\n",
        "VERSION=5\n",
        "subprocess.run(['wget', f'http://students.mimuw.edu.pl/~mt406390/machine_learning/itl_dataset_v{VERSION}.zip'])\n",
        "subprocess.run(['unzip', f'itl_dataset_v{VERSION}.zip'], stdout=subprocess.DEVNULL, stderr=subprocess.DEVNULL)"
      ],
      "execution_count": null,
      "outputs": []
    },
    {
      "cell_type": "markdown",
      "metadata": {
        "id": "4tpicxoutRsH",
        "colab_type": "text"
      },
      "source": [
        "# Loading data"
      ]
    },
    {
      "cell_type": "code",
      "metadata": {
        "id": "deao-kkPtAYR",
        "colab_type": "code",
        "colab": {}
      },
      "source": [
        "POINTS_PER_BOX=4\n",
        "BBOXES=1\n",
        "OUT_SIZE=POINTS_PER_BOX*BBOXES\n",
        "INPUT_SHAPE=(224, 224, 1)"
      ],
      "execution_count": null,
      "outputs": []
    },
    {
      "cell_type": "code",
      "metadata": {
        "id": "qjTmpyns4D3Z",
        "colab_type": "code",
        "colab": {}
      },
      "source": [
        "import json\n",
        "with open('annotations.json', 'r') as flabels:\n",
        "  annots = json.load(flabels)"
      ],
      "execution_count": null,
      "outputs": []
    },
    {
      "cell_type": "code",
      "metadata": {
        "id": "R0mRW7vX6nbi",
        "colab_type": "code",
        "colab": {}
      },
      "source": [
        "dataset_size = len(annots)\n",
        "print(dataset_size)\n",
        "operators = np.zeros((dataset_size, OUT_SIZE))\n",
        "print(operators.shape)\n",
        "paths = [None] * dataset_size\n",
        "for j, a in enumerate(annots):\n",
        "  idx = int(a['name'][len('eq') : a['name'].find('.')])\n",
        "  assert(j == idx)\n",
        "  operators[idx] = np.array(a['op'])\n",
        "  paths[idx] = os.path.join('output_proper', a['name'])\n",
        "\n",
        "\n"
      ],
      "execution_count": null,
      "outputs": []
    },
    {
      "cell_type": "code",
      "metadata": {
        "id": "-GhJZgZNbokq",
        "colab_type": "code",
        "colab": {}
      },
      "source": [
        "from google.colab.patches import cv2_imshow\n",
        "\n",
        "def load_img(path):\n",
        "  return 255-cv2.cvtColor(imread(path), cv2.COLOR_BGR2GRAY).reshape(INPUT_SHAPE)\n",
        "\n"
      ],
      "execution_count": null,
      "outputs": []
    },
    {
      "cell_type": "code",
      "metadata": {
        "id": "PWaGw2qdfn2G",
        "colab_type": "code",
        "colab": {}
      },
      "source": [
        "from skimage.io import imread\n",
        "from skimage.transform import resize\n",
        "import numpy as np\n",
        "import math\n",
        "from keras.utils import Sequence\n",
        "\n",
        "\n",
        "\n",
        "class ITLSequence(Sequence):\n",
        "\n",
        "    def __init__(self, x_set, y_set, batch_size):\n",
        "        self.x, self.y = x_set, y_set\n",
        "        self.batch_size = batch_size\n",
        "\n",
        "    def __len__(self):\n",
        "        return math.ceil(len(self.x) / self.batch_size)\n",
        "\n",
        "    def __getitem__(self, idx):\n",
        "        batch_x = self.x[idx * self.batch_size:(idx + 1) *\n",
        "        self.batch_size]\n",
        "        batch_y = self.y[idx * self.batch_size:(idx + 1) *\n",
        "        self.batch_size]\n",
        "        #batch_y = np.ones((self.batch_size, 4))*100\n",
        "        return np.array([\n",
        "            load_img(file_name) for file_name in batch_x], dtype=np.float64), batch_y"
      ],
      "execution_count": null,
      "outputs": []
    },
    {
      "cell_type": "code",
      "metadata": {
        "id": "LCr4exHfiAlg",
        "colab_type": "code",
        "colab": {}
      },
      "source": [
        "itlseq = ITLSequence(paths,operators, 64)"
      ],
      "execution_count": null,
      "outputs": []
    },
    {
      "cell_type": "markdown",
      "metadata": {
        "id": "YQHjzpcHtT3Z",
        "colab_type": "text"
      },
      "source": [
        "# Model\n"
      ]
    },
    {
      "cell_type": "code",
      "metadata": {
        "id": "9mE0v_zGtFdo",
        "colab_type": "code",
        "colab": {}
      },
      "source": [
        "def get_model(verbose=False):\n",
        "    model = Sequential()   \n",
        "    model.add(keras.applications.MobileNetV2(weights=None, include_top=False, input_shape=INPUT_SHAPE)) \n",
        "    model.add(Conv2D(32, kernel_size=(5, 5), activation='relu'))\n",
        "    model.add(Flatten())\n",
        "    model.add(Dense(64, activation='relu'))\n",
        "    model.add(Dropout(0.25))\n",
        "    model.add(Dense(OUT_SIZE))\n",
        "\n",
        "    if verbose:\n",
        "      model.summary()\n",
        "\n",
        "    model.compile('adam', 'mse')\n",
        "\n",
        "    return model\n",
        "\n",
        "def get_model_v2(verbose=False):\n",
        "    model = Sequential()\n",
        "    model.add(Conv2D(8, kernel_size=(5, 5), activation='relu', input_shape=INPUT_SHAPE))\n",
        "    model.add(BatchNormalization())\n",
        "    model.add(Conv2D(16, kernel_size=(5, 5), activation='relu'))\n",
        "    model.add(Conv2D(16, kernel_size=(5, 5), activation='relu'))\n",
        "    model.add(Conv2D(16, kernel_size=(5, 5), activation='relu'))\n",
        "    model.add(Flatten())\n",
        "    model.add(Dropout(0.25))\n",
        "    model.add(Dense(OUT_SIZE))\n",
        "\n",
        "    model.summary()\n",
        "    model.compile('adam', 'mse')\n",
        "\n",
        "    return model"
      ],
      "execution_count": null,
      "outputs": []
    },
    {
      "cell_type": "code",
      "metadata": {
        "id": "xY7jAvtmtNDs",
        "colab_type": "code",
        "colab": {}
      },
      "source": [
        "print(INPUT_SHAPE)\n",
        "mdl = get_model_v2()"
      ],
      "execution_count": null,
      "outputs": []
    },
    {
      "cell_type": "code",
      "metadata": {
        "id": "VgZgLrvGDLlo",
        "colab_type": "code",
        "colab": {}
      },
      "source": [
        "mdl.fit(x=itlseq, batch_size=128, epochs=100)"
      ],
      "execution_count": null,
      "outputs": []
    },
    {
      "cell_type": "code",
      "metadata": {
        "id": "ZrOXSCxQsaNu",
        "colab_type": "code",
        "colab": {}
      },
      "source": [
        "import cv2\n",
        "from google.colab.patches import cv2_imshow\n",
        "def visualize(path, idx):\n",
        "  infer = load_img(path)\n",
        "  cv2img=load_img(path)\n",
        "  cv2_imshow(cv2img)\n",
        "  cv2img=cv2.cvtColor(cv2img, cv2.COLOR_GRAY2BGR)\n",
        "  batch = np.zeros((1,*INPUT_SHAPE), dtype=np.float64)\n",
        "  batch[0] = infer\n",
        "  x,y,dx,dy=mdl.predict_on_batch(batch)[0]\n",
        "\n",
        "  ox, oy, odx, ody = operators[idx]\n",
        "  cv2.rectangle(cv2img, (int(x), int(y)), (int(x+dx), int(y+dy)), [0,0,255], 3)\n",
        "  cv2.rectangle(cv2img, (int(ox), int(oy)), (int(ox+odx),int(oy+ody)), [0,255,0], 3)\n",
        "  cv2_imshow(cv2img)\n",
        "  print(idx)\n",
        "  print('Infer: ', x,y,dx,dy)\n",
        "  print('Ori: ', ox, oy, odx, ody)\n",
        "\n",
        "\n"
      ],
      "execution_count": null,
      "outputs": []
    },
    {
      "cell_type": "code",
      "metadata": {
        "id": "fXmnWY_kf7CX",
        "colab_type": "code",
        "colab": {}
      },
      "source": [
        "for j in range(12):\n",
        "  visualize(f'output_proper/eq{j}.png', j)"
      ],
      "execution_count": null,
      "outputs": []
    },
    {
      "cell_type": "code",
      "metadata": {
        "id": "TCrfYJBDeD7T",
        "colab_type": "code",
        "colab": {}
      },
      "source": [
        "mdl.save('itl_op')"
      ],
      "execution_count": null,
      "outputs": []
    },
    {
      "cell_type": "code",
      "metadata": {
        "id": "-LA9vr0nKk-8",
        "colab_type": "code",
        "colab": {}
      },
      "source": [
        ""
      ],
      "execution_count": null,
      "outputs": []
    }
  ]
}