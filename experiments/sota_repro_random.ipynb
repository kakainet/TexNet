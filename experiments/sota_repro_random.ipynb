{
  "nbformat": 4,
  "nbformat_minor": 0,
  "metadata": {
    "colab": {
      "name": "sota_repro_random.ipynb",
      "provenance": []
    },
    "kernelspec": {
      "name": "python3",
      "display_name": "Python 3"
    },
    "accelerator": "GPU"
  },
  "cells": [
    {
      "cell_type": "code",
      "metadata": {
        "id": "b54Sw7FQ9YWJ",
        "outputId": "d5f59ece-dc50-43b2-fb1f-107fed9b828b",
        "colab": {
          "base_uri": "https://localhost:8080/",
          "height": 351
        }
      },
      "source": [
        "!nvidia-smi"
      ],
      "execution_count": null,
      "outputs": [
        {
          "output_type": "stream",
          "text": [
            "Sun Oct 25 10:38:48 2020       \n",
            "+-----------------------------------------------------------------------------+\n",
            "| NVIDIA-SMI 455.23.05    Driver Version: 418.67       CUDA Version: 10.1     |\n",
            "|-------------------------------+----------------------+----------------------+\n",
            "| GPU  Name        Persistence-M| Bus-Id        Disp.A | Volatile Uncorr. ECC |\n",
            "| Fan  Temp  Perf  Pwr:Usage/Cap|         Memory-Usage | GPU-Util  Compute M. |\n",
            "|                               |                      |               MIG M. |\n",
            "|===============================+======================+======================|\n",
            "|   0  Tesla T4            Off  | 00000000:00:04.0 Off |                    0 |\n",
            "| N/A   53C    P8    10W /  70W |      0MiB / 15079MiB |      0%      Default |\n",
            "|                               |                      |                 ERR! |\n",
            "+-------------------------------+----------------------+----------------------+\n",
            "                                                                               \n",
            "+-----------------------------------------------------------------------------+\n",
            "| Processes:                                                                  |\n",
            "|  GPU   GI   CI        PID   Type   Process name                  GPU Memory |\n",
            "|        ID   ID                                                   Usage      |\n",
            "|=============================================================================|\n",
            "|  No running processes found                                                 |\n",
            "+-----------------------------------------------------------------------------+\n"
          ],
          "name": "stdout"
        }
      ]
    },
    {
      "cell_type": "code",
      "metadata": {
        "id": "LNIaE_A89bEk",
        "outputId": "4c966200-8abb-48c6-fd0d-b976bc5d3ba5",
        "colab": {
          "base_uri": "https://localhost:8080/",
          "height": 117
        }
      },
      "source": [
        "!git clone https://github.com/kakainet/im2latex-1.git"
      ],
      "execution_count": null,
      "outputs": [
        {
          "output_type": "stream",
          "text": [
            "Cloning into 'im2latex-1'...\n",
            "remote: Enumerating objects: 23, done.\u001b[K\n",
            "remote: Counting objects: 100% (23/23), done.\u001b[K\n",
            "remote: Compressing objects: 100% (17/17), done.\u001b[K\n",
            "remote: Total 61 (delta 8), reused 16 (delta 6), pack-reused 38\u001b[K\n",
            "Unpacking objects: 100% (61/61), done.\n"
          ],
          "name": "stdout"
        }
      ]
    },
    {
      "cell_type": "code",
      "metadata": {
        "id": "AugzK1kd9iW5",
        "outputId": "402d6892-de6f-4d39-8a3a-3459b7d326bd",
        "colab": {
          "base_uri": "https://localhost:8080/",
          "height": 33
        }
      },
      "source": [
        "%cd /content/im2latex-1\n"
      ],
      "execution_count": null,
      "outputs": [
        {
          "output_type": "stream",
          "text": [
            "/content/im2latex-1\n"
          ],
          "name": "stdout"
        }
      ]
    },
    {
      "cell_type": "code",
      "metadata": {
        "id": "rgTGLwWf9lVx",
        "outputId": "f0839312-bb1f-4566-e767-b060d7b99887",
        "colab": {
          "base_uri": "https://localhost:8080/",
          "height": 201
        }
      },
      "source": [
        "!wget https://students.mimuw.edu.pl/~mt406390/machine_learning/dataset_sota_v2137.zip"
      ],
      "execution_count": null,
      "outputs": [
        {
          "output_type": "stream",
          "text": [
            "--2020-10-25 10:38:49--  https://students.mimuw.edu.pl/~mt406390/machine_learning/dataset_sota_v2137.zip\n",
            "Resolving students.mimuw.edu.pl (students.mimuw.edu.pl)... 193.0.96.129, 2001:6a0:5001:1::3\n",
            "Connecting to students.mimuw.edu.pl (students.mimuw.edu.pl)|193.0.96.129|:443... connected.\n",
            "HTTP request sent, awaiting response... 200 OK\n",
            "Length: 56336 (55K) [application/zip]\n",
            "Saving to: ‘dataset_sota_v2137.zip’\n",
            "\n",
            "dataset_sota_v2137. 100%[===================>]  55.02K   271KB/s    in 0.2s    \n",
            "\n",
            "2020-10-25 10:38:50 (271 KB/s) - ‘dataset_sota_v2137.zip’ saved [56336/56336]\n",
            "\n"
          ],
          "name": "stdout"
        }
      ]
    },
    {
      "cell_type": "code",
      "metadata": {
        "id": "Sj8SD_Ij-wf0"
      },
      "source": [
        "!unzip -qq dataset_sota_v2137.zip"
      ],
      "execution_count": null,
      "outputs": []
    },
    {
      "cell_type": "code",
      "metadata": {
        "id": "JStY33sxhawf"
      },
      "source": [
        "!rm -rf checkpoints\n",
        "!mkdir checkpoints\n",
        "!ls checkpoints\n",
        "!rm -rf tmp\n",
        "!mkdir tmp"
      ],
      "execution_count": null,
      "outputs": []
    },
    {
      "cell_type": "code",
      "metadata": {
        "id": "OpuzjR527a2I",
        "outputId": "52b8d2aa-2ff2-4261-e0c0-7eff5efd628e",
        "colab": {
          "base_uri": "https://localhost:8080/",
          "height": 204
        }
      },
      "source": [
        "!pip3 install distance"
      ],
      "execution_count": null,
      "outputs": [
        {
          "output_type": "stream",
          "text": [
            "Collecting distance\n",
            "\u001b[?25l  Downloading https://files.pythonhosted.org/packages/5c/1a/883e47df323437aefa0d0a92ccfb38895d9416bd0b56262c2e46a47767b8/Distance-0.1.3.tar.gz (180kB)\n",
            "\r\u001b[K     |█▉                              | 10kB 24.0MB/s eta 0:00:01\r\u001b[K     |███▋                            | 20kB 19.5MB/s eta 0:00:01\r\u001b[K     |█████▌                          | 30kB 16.2MB/s eta 0:00:01\r\u001b[K     |███████▎                        | 40kB 12.4MB/s eta 0:00:01\r\u001b[K     |█████████                       | 51kB 10.9MB/s eta 0:00:01\r\u001b[K     |███████████                     | 61kB 11.1MB/s eta 0:00:01\r\u001b[K     |████████████▊                   | 71kB 10.7MB/s eta 0:00:01\r\u001b[K     |██████████████▌                 | 81kB 9.8MB/s eta 0:00:01\r\u001b[K     |████████████████▍               | 92kB 10.0MB/s eta 0:00:01\r\u001b[K     |██████████████████▏             | 102kB 9.6MB/s eta 0:00:01\r\u001b[K     |████████████████████            | 112kB 9.6MB/s eta 0:00:01\r\u001b[K     |█████████████████████▉          | 122kB 9.6MB/s eta 0:00:01\r\u001b[K     |███████████████████████▋        | 133kB 9.6MB/s eta 0:00:01\r\u001b[K     |█████████████████████████▌      | 143kB 9.6MB/s eta 0:00:01\r\u001b[K     |███████████████████████████▎    | 153kB 9.6MB/s eta 0:00:01\r\u001b[K     |█████████████████████████████   | 163kB 9.6MB/s eta 0:00:01\r\u001b[K     |███████████████████████████████ | 174kB 9.6MB/s eta 0:00:01\r\u001b[K     |████████████████████████████████| 184kB 9.6MB/s \n",
            "\u001b[?25hBuilding wheels for collected packages: distance\n",
            "  Building wheel for distance (setup.py) ... \u001b[?25l\u001b[?25hdone\n",
            "  Created wheel for distance: filename=Distance-0.1.3-cp36-none-any.whl size=16262 sha256=e81824a776471030b4a2e192cf019e26ba0f4192492ed9a897f50fbb88648af5\n",
            "  Stored in directory: /root/.cache/pip/wheels/d5/aa/e1/dbba9e7b6d397d645d0f12db1c66dbae9c5442b39b001db18e\n",
            "Successfully built distance\n",
            "Installing collected packages: distance\n",
            "Successfully installed distance-0.1.3\n"
          ],
          "name": "stdout"
        }
      ]
    },
    {
      "cell_type": "code",
      "metadata": {
        "id": "EwtFBDQLedXk",
        "outputId": "fb2ef1b2-3eeb-4331-f9bb-96b629296109",
        "colab": {
          "base_uri": "https://localhost:8080/",
          "height": 33
        }
      },
      "source": [
        "%debug"
      ],
      "execution_count": null,
      "outputs": [
        {
          "output_type": "stream",
          "text": [
            "ERROR:root:No traceback has been produced, nothing to debug.\n"
          ],
          "name": "stderr"
        }
      ]
    },
    {
      "cell_type": "code",
      "metadata": {
        "id": "UVU_GilS9ltY",
        "outputId": "8660af33-7b20-4d84-91d1-b4e6f61ca921",
        "colab": {
          "base_uri": "https://localhost:8080/",
          "height": 639
        }
      },
      "source": [
        "!python3 main.py --train"
      ],
      "execution_count": null,
      "outputs": [
        {
          "output_type": "stream",
          "text": [
            "yyyy\n",
            "[Trainer.py], 2020-10-25 14:09:08: start training one epoch\n",
            "[Trainer.py], 2020-10-25 14:09:09: Batch 0: loss=3.7539749145507812, acc=0.07766990291262135, lr=0.001\n",
            "[Trainer.py], 2020-10-25 14:09:09: Epoch finished, loss=3.7539749145507812 acc=0.07766990291262135, lr=0.001\n",
            "[Trainer.py], 2020-10-25 14:09:09: training one epoch finished.\n",
            "[Trainer.py], 2020-10-25 14:09:09: Epoch 1 saved.\n",
            "/usr/local/lib/python3.6/dist-packages/nltk/translate/bleu_score.py:490: UserWarning: \n",
            "Corpus/Sentence contains 0 counts of 2-gram overlaps.\n",
            "BLEU scores might be undesirable; use SmoothingFunction().\n",
            "  warnings.warn(_msg)\n",
            "[Training.train], 2020-10-25 10:39:11: BLEU PREDICTED FORMULAS TEST ['u u u u u u u u u u u u u u u u u u u u u u u u u u \\\\n', 'u u u u u u u u \\\\\\\\phi \\\\\\\\phi u u u u u u u u u u u u u u u u \\\\n', 'u u u u u u u u u u u u u u u u u u u u u u u u u u \\\\n', 'u u u u u u u u u u \\\\\\\\phi \\\\\\\\phi u u u u u u u u u u u u u u \\\\n', 'u u u u u u u u u u u u u u u u u u u u u u u u u u \\\\n', 'u u u \\\\\\\\phi u \\\\\\\\phi u u u u u u u u u u \\\\\\\\phi \\\\\\\\phi \\\\\\\\phi \\\\\\\\phi \\\\\\\\phi \\\\\\\\phi \\\\\\\\phi \\\\\\\\phi \\\\\\\\phi \\\\\\\\phi \\\\\\\\ph\\\\n']\\n6/6\\nBLEU Score: 0.259947\n",
            "[Training.train], 2020-10-25 10:39:11: Edit Distance Accuracy: 0.019108\n",
            "tokeny {'<f>': 0, '</f>': 1, '<pad>': 2, '<unk>': 3, '\\\\sum': 4, '\\\\left(': 5, '0': 6, '\\\\right)': 7, '\\\\otimes': 8, '\\\\delta': 9, 'a': 10, '\\\\cdot': 11, 'u': 12, 'V': 13, '\\\\prod': 14, '\\\\phi': 15, '\\\\frac': 16, '{': 17, 'i': 18, '}': 19, 'd': 20, '\\\\star': 21, '\\\\beta': 22, 'G': 23, '\\\\sqrt': 24, 'q': 25, '\\\\times': 26, '\\\\alpha': 27, '6': 28, '\\\\Gamma': 29, '\\\\div': 30, 'w': 31, 'L': 32, 'X': 33, 'R': 34, 'F': 35, 'P': 36, 'I': 37, '\\\\int': 38, '+': 39, 'Z': 40, 'Y': 41, 'x': 42}\n",
            "[Trainer.py], 2020-10-25 14:09:11: checkpoints/snapshot-01.pt loaded.\n",
            "[Trainer.py], 2020-10-25 14:09:11: evaluation starts.\n",
            "[Trainer.py], 2020-10-25 14:09:11: evaluation finished.\n",
            "[Training.evaluate], 2020-10-25 10:39:11: loss=3.415651559829712, acc=0.1650485436893204\n",
            "/usr/local/lib/python3.6/dist-packages/nltk/translate/bleu_score.py:490: UserWarning: \n",
            "Corpus/Sentence contains 0 counts of 2-gram overlaps.\n",
            "BLEU scores might be undesirable; use SmoothingFunction().\n",
            "  warnings.warn(_msg)\n",
            "[Training.evaluate], 2020-10-25 10:39:12: BLEU PREDICTED FORMULAS TEST ['{ } } } } } } } } } } } } } } } } } } } } } } } } } \\\\n', '{ } } } } } } } } } } } } } } } } } } } } } } } } } \\\\n', '{ } } } } } } } } } } } } } } } } } } } } } } } } } \\\\n', '{ } } } } } } } } } } } } } } } } } } } } } } } } } \\\\n', '{ } } } } } } } } } } } } } } } } } } } } } } } } } \\\\n', '{ } } } } } } } } } } } } } } } } } } } } } } } } } \\\\n']\\n6/6\\nBLEU Score: 0.450900\n",
            "[Training.evaluate], 2020-10-25 10:39:12: Edit Distance Accuracy: 0.070513\n",
            "[Trainer.py], 2020-10-25 14:09:12: start training one epoch\n",
            "Traceback (most recent call last):\n",
            "  File \"main.py\", line 171, in <module>\n",
            "    train(config)\n",
            "  File \"main.py\", line 89, in train\n",
            "    predictions, epoch_loss, epoch_acc = _trainer.train_one_epoch()\n",
            "  File \"/content/im2latex-1/src/trainer.py\", line 59, in train_one_epoch\n",
            "    logits = self.model(x_train, y_train, self.teacher_forcing_ratio)\n",
            "  File \"/usr/local/lib/python3.6/dist-packages/torch/nn/modules/module.py\", line 722, in _call_impl\n",
            "    result = self.forward(*input, **kwargs)\n",
            "  File \"/content/im2latex-1/src/model.py\", line 116, in forward\n",
            "    next_token = output.multinomial(1).squeeze(1) # (batch)\n",
            "RuntimeError: probability tensor contains either `inf`, `nan` or element < 0\n"
          ],
          "name": "stdout"
        }
      ]
    },
    {
      "cell_type": "code",
      "metadata": {
        "id": "vHKi0OYe-qic"
      },
      "source": [
        ""
      ],
      "execution_count": null,
      "outputs": []
    }
  ]
}