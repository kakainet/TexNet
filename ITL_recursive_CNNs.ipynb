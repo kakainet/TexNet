{
  "nbformat": 4,
  "nbformat_minor": 0,
  "metadata": {
    "kernelspec": {
      "display_name": "Python 3",
      "language": "python",
      "name": "python3"
    },
    "colab": {
      "name": "ITL recursive CNNs",
      "provenance": [],
      "collapsed_sections": [
        "uWs7SXc2MI0O",
        "RpuBVnpD_j9I"
      ]
    }
  },
  "cells": [
    {
      "cell_type": "markdown",
      "metadata": {
        "id": "-gDlTQlA7ETk"
      },
      "source": [
        "# ITL Recursive CNNs - inference + evaluation\n",
        "[![Open In Colab](https://colab.research.google.com/assets/colab-badge.svg)](https://colab.research.google.com/github/kakainet/TexNet/blob/master/ITL_recursive_CNNs.ipynb)"
      ]
    },
    {
      "cell_type": "code",
      "metadata": {
        "id": "HobAbLXiMI0H",
        "outputId": "1f65cbd3-541b-4016-f32d-6c8f69bc2071",
        "colab": {
          "base_uri": "https://localhost:8080/"
        }
      },
      "source": [
        "#Run once per session\n",
        "%load_ext autoreload\n",
        "%autoreload 2\n",
        "!pip install -q fastcore==1.2.5\n",
        "!pip install -q fastai==2.0.16"
      ],
      "execution_count": 1,
      "outputs": [
        {
          "output_type": "stream",
          "text": [
            "\u001b[K     |████████████████████████████████| 51kB 3.1MB/s \n",
            "\u001b[K     |████████████████████████████████| 194kB 4.8MB/s \n",
            "\u001b[?25h"
          ],
          "name": "stdout"
        }
      ]
    },
    {
      "cell_type": "markdown",
      "metadata": {
        "id": "uWs7SXc2MI0O"
      },
      "source": [
        "# Dataset loading + initialization"
      ]
    },
    {
      "cell_type": "code",
      "metadata": {
        "id": "-hf1lY_FMI0Q"
      },
      "source": [
        "from fastai.vision.all import *"
      ],
      "execution_count": 2,
      "outputs": []
    },
    {
      "cell_type": "code",
      "metadata": {
        "id": "I1GGI9RBMI0U",
        "outputId": "1ec988d7-8ef9-4a02-c5be-b007cf57ce57",
        "colab": {
          "base_uri": "https://localhost:8080/"
        }
      },
      "source": [
        "VERSION=13\n",
        "ITL_DS_NAME = f'itl_dataset_v{VERSION}.zip'\n",
        "ITL_DS_URL =  f'http://students.mimuw.edu.pl/~mt406390/machine_learning/' + ITL_DS_NAME\n",
        "!wget $ITL_DS_URL\n",
        "!unzip -qq $ITL_DS_NAME -d data/\n",
        "path = Path('data')"
      ],
      "execution_count": 3,
      "outputs": [
        {
          "output_type": "stream",
          "text": [
            "--2020-11-02 17:20:47--  http://students.mimuw.edu.pl/~mt406390/machine_learning/itl_dataset_v13.zip\n",
            "Resolving students.mimuw.edu.pl (students.mimuw.edu.pl)... 193.0.96.129, 2001:6a0:5001:1::3\n",
            "Connecting to students.mimuw.edu.pl (students.mimuw.edu.pl)|193.0.96.129|:80... connected.\n",
            "HTTP request sent, awaiting response... 301 Moved Permanently\n",
            "Location: https://students.mimuw.edu.pl/~mt406390/machine_learning/itl_dataset_v13.zip [following]\n",
            "--2020-11-02 17:20:47--  https://students.mimuw.edu.pl/~mt406390/machine_learning/itl_dataset_v13.zip\n",
            "Connecting to students.mimuw.edu.pl (students.mimuw.edu.pl)|193.0.96.129|:443... connected.\n",
            "HTTP request sent, awaiting response... 200 OK\n",
            "Length: 13406847 (13M) [application/zip]\n",
            "Saving to: ‘itl_dataset_v13.zip’\n",
            "\n",
            "itl_dataset_v13.zip 100%[===================>]  12.79M  6.35MB/s    in 2.0s    \n",
            "\n",
            "2020-11-02 17:20:49 (6.35 MB/s) - ‘itl_dataset_v13.zip’ saved [13406847/13406847]\n",
            "\n"
          ],
          "name": "stdout"
        }
      ]
    },
    {
      "cell_type": "code",
      "metadata": {
        "id": "KKWezwyLMI0Y",
        "outputId": "55f20607-8292-4933-f013-c64f681722c4",
        "colab": {
          "base_uri": "https://localhost:8080/"
        }
      },
      "source": [
        "path.ls()"
      ],
      "execution_count": 4,
      "outputs": [
        {
          "output_type": "execute_result",
          "data": {
            "text/plain": [
              "(#9) [Path('data/itl_labels.txt'),Path('data/operators.txt'),Path('data/output_black'),Path('data/depths.txt'),Path('data/output_bbox'),Path('data/output_proper'),Path('data/output_color'),Path('data/annotations.json'),Path('data/job.json')]"
            ]
          },
          "metadata": {
            "tags": []
          },
          "execution_count": 4
        }
      ]
    },
    {
      "cell_type": "code",
      "metadata": {
        "id": "TXEu4SWkMI0d",
        "outputId": "14e4e44b-064f-4057-9949-a30e79ffa03f",
        "colab": {
          "base_uri": "https://localhost:8080/"
        }
      },
      "source": [
        "with open(path / 'annotations.json') as f:\n",
        "    annots = json.load(f)\n",
        "print(len(annots))"
      ],
      "execution_count": 5,
      "outputs": [
        {
          "output_type": "stream",
          "text": [
            "800\n"
          ],
          "name": "stdout"
        }
      ]
    },
    {
      "cell_type": "code",
      "metadata": {
        "id": "_pPlgsF6MI0g",
        "outputId": "257db911-1173-464a-8a9f-fe19caa49750",
        "colab": {
          "base_uri": "https://localhost:8080/",
          "height": 0
        }
      },
      "source": [
        "images = list(x['name'] for x in annots if len(x['exprs']) > 0)\n",
        "print(len(images))\n",
        "images[0]"
      ],
      "execution_count": 6,
      "outputs": [
        {
          "output_type": "stream",
          "text": [
            "800\n"
          ],
          "name": "stdout"
        },
        {
          "output_type": "execute_result",
          "data": {
            "application/vnd.google.colaboratory.intrinsic+json": {
              "type": "string"
            },
            "text/plain": [
              "'eq0.png'"
            ]
          },
          "metadata": {
            "tags": []
          },
          "execution_count": 6
        }
      ]
    },
    {
      "cell_type": "code",
      "metadata": {
        "id": "eawdh5vfvOXt"
      },
      "source": [
        "ops_cfg = {\n",
        "  \"leaf\": {\n",
        "    \"latex\": \"{0}\",\n",
        "    \"operands\": 0,\n",
        "    \"inline\": true\n",
        "  },\n",
        "  \"add\": {\n",
        "    \"latex\": \"{0} + {1}\",\n",
        "    \"operands\": 2,\n",
        "    \"inline\": true\n",
        "  },\n",
        "  \"times\": {\n",
        "    \"latex\": \"{0} \\\\times {1}\",\n",
        "    \"operands\": 2,\n",
        "    \"inline\": true\n",
        "  },\n",
        "  \"star\": {\n",
        "    \"latex\": \"{0} \\\\star {1}\",\n",
        "    \"operands\": 2,\n",
        "    \"inline\": true\n",
        "  },\n",
        "  \"div\": {\n",
        "    \"latex\": \"{0} \\\\div {1}\",\n",
        "    \"operands\": 2,\n",
        "    \"inline\": true\n",
        "  },\n",
        "  \"otimes\": {\n",
        "    \"latex\": \"{0} \\\\otimes {1}\",\n",
        "    \"operands\": 2,\n",
        "    \"inline\": true\n",
        "  },\n",
        "  \"sub\": {\n",
        "    \"latex\": \"{0} - {1}\",\n",
        "    \"operands\": 2,\n",
        "    \"inline\": true\n",
        "  },\n",
        "  \"mul\": {\n",
        "    \"latex\": \"{0} \\\\cdot {1}\",\n",
        "    \"operands\": 2,\n",
        "    \"inline\": true\n",
        "  },\n",
        "  \"frac\": {\n",
        "    \"latex\": \"\\\\frac {{ {0} }} {{ {1} }}\",\n",
        "    \"operands\": 2\n",
        "  },\n",
        "  \"sqrt\": {\n",
        "    \"latex\": \"\\\\sqrt {{ {0} }}\",\n",
        "    \"operands\": 1\n",
        "  },\n",
        "  \"int\": {\n",
        "    \"latex\": \"\\\\int \\\\left( {0} \\\\right)\",\n",
        "    \"operands\": 1\n",
        "  },\n",
        "  \"sum\": {\n",
        "    \"latex\": \"\\\\sum \\\\left( {0} \\\\right)\",\n",
        "    \"operands\": 1\n",
        "  },\n",
        "  \"pi\": {\n",
        "    \"latex\": \"\\\\prod \\\\left( {0} \\\\right)\",\n",
        "    \"operands\": 1\n",
        "  },\n",
        "  \"par\": {\n",
        "    \"latex\": \"\\\\left( {0} \\\\right)\",\n",
        "    \"operands\": 1\n",
        "  },\n",
        "  \"fpar\": {\n",
        "    \"latex\": \"f \\\\left( {0} \\\\right)\",\n",
        "    \"operands\": 1\n",
        "  },\n",
        "  \"ffpar\": {\n",
        "    \"latex\": \"F \\\\left( {0} \\\\right)\",\n",
        "    \"operands\": 1\n",
        "  },\n",
        "  \"gpar\": {\n",
        "    \"latex\": \"G \\\\left( {0} \\\\right)\",\n",
        "    \"operands\": 1\n",
        "  }\n",
        "}"
      ],
      "execution_count": 7,
      "outputs": []
    },
    {
      "cell_type": "markdown",
      "metadata": {
        "id": "8XnwBchlMI0m"
      },
      "source": [
        "Next, we want to be able to quickly look up a corresponding image to it's label. We'll use a dictionary"
      ]
    },
    {
      "cell_type": "code",
      "metadata": {
        "id": "hOOYWbhxMI0n"
      },
      "source": [
        "img2bbox = dict(zip(images, annots))"
      ],
      "execution_count": 8,
      "outputs": []
    },
    {
      "cell_type": "markdown",
      "metadata": {
        "id": "3ZjUaaI8MI0t"
      },
      "source": [
        "Great! Now let's build our `DataBlock`. We'll have two outputs, the bounding box itself and a label, with one input. For our `y`'s, we'll define some `getters`. The first of which will be `noop`, as we don't care about our initial image, and then we'll grab our label and bbox coordinates (we'll also define our `get_items`)"
      ]
    },
    {
      "cell_type": "code",
      "metadata": {
        "id": "dqMkzWBkMI0t"
      },
      "source": [
        "def bbox_to_fastai(box):\n",
        "    x, y, dx, dy = box\n",
        "    return [x, y, x + dx, y + dy]\n",
        "\n",
        "getters = [\n",
        "    lambda o: path/'output_proper'/o, lambda o: list(map(bbox_to_fastai, img2bbox[o]['exprs'])),\n",
        "    lambda o: len(img2bbox[o]['exprs']) * [img2bbox[o]['op']]\n",
        "]"
      ],
      "execution_count": 9,
      "outputs": []
    },
    {
      "cell_type": "markdown",
      "metadata": {
        "id": "jlvhInImMI0w"
      },
      "source": [
        "For our transforms, we'll use some of the ones we defined earlier"
      ]
    },
    {
      "cell_type": "code",
      "metadata": {
        "id": "WYOBW1HMMI0x"
      },
      "source": [
        "item_tfms = []\n",
        "batch_tfms = [Zoom(0.6, 1.5), Warp(0.25), Saturation(max_lighting=0.5),\n",
        "              Brightness(), Rotate()]"
      ],
      "execution_count": 10,
      "outputs": []
    },
    {
      "cell_type": "markdown",
      "metadata": {
        "id": "2YrjfDxuMI0z"
      },
      "source": [
        "Why do we need a custom `get_images`? Because we want our **images** that came back to us, not the entire folder"
      ]
    },
    {
      "cell_type": "code",
      "metadata": {
        "id": "diaZXpW4MI00"
      },
      "source": [
        "def get_train_imgs(noop):  return images"
      ],
      "execution_count": 11,
      "outputs": []
    },
    {
      "cell_type": "markdown",
      "metadata": {
        "id": "0oKEQM7HMI03"
      },
      "source": [
        "We'll now make our `DataBlock`. We want to adjust `n_inp` as we expect two outputs"
      ]
    },
    {
      "cell_type": "code",
      "metadata": {
        "id": "qD57DuQGMI03"
      },
      "source": [
        "pascal = DataBlock(blocks=(ImageBlock(cls=PILImageBW), BBoxBlock, BBoxLblBlock),\n",
        "                 splitter=RandomSplitter(0.3),\n",
        "                 get_items=get_train_imgs, \n",
        "                 getters=getters,\n",
        "                 item_tfms=item_tfms,\n",
        "                 batch_tfms=batch_tfms,\n",
        "                 n_inp=1)"
      ],
      "execution_count": 12,
      "outputs": []
    },
    {
      "cell_type": "code",
      "metadata": {
        "id": "OadwEe45MI06"
      },
      "source": [
        "BS = 16\n",
        "dls = pascal.dataloaders('', bs=BS)\n",
        "dls.c = len(ops_cfg)"
      ],
      "execution_count": 13,
      "outputs": []
    },
    {
      "cell_type": "code",
      "metadata": {
        "id": "jqEEJ0AkMI0_",
        "outputId": "0bece446-e80d-48aa-fab1-cac6109c2e20",
        "colab": {
          "base_uri": "https://localhost:8080/",
          "height": 0
        }
      },
      "source": [
        "dls.show_batch(max_n=25)"
      ],
      "execution_count": 14,
      "outputs": [
        {
          "output_type": "display_data",
          "data": {
            "image/png": "[encoded data removed]",
            "text/plain": [
              "<Figure size 864x864 with 16 Axes>"
            ]
          },
          "metadata": {
            "tags": [],
            "needs_background": "light"
          }
        }
      ]
    },
    {
      "cell_type": "markdown",
      "metadata": {
        "id": "ZB-fSbhqQsnh"
      },
      "source": [
        "# ITL model"
      ]
    },
    {
      "cell_type": "code",
      "metadata": {
        "id": "HpRX2rdUVtNK"
      },
      "source": [
        "POINTS_PER_BBOX = 4\n",
        "N_BBOXES = 2\n",
        "BBOXES = N_BBOXES * POINTS_PER_BBOX\n",
        "CATS = dls.c\n",
        "OUT = CATS + BBOXES"
      ],
      "execution_count": 15,
      "outputs": []
    },
    {
      "cell_type": "code",
      "metadata": {
        "id": "dTeL1CgLBiGx"
      },
      "source": [
        "head = nn.Sequential(\n",
        "    nn.Conv2d(512, 128, 3, 2),\n",
        "    nn.BatchNorm2d(128),\n",
        "    nn.Conv2d(128, OUT, 3, 1),\n",
        "    nn.Flatten()\n",
        ")\n",
        "\n",
        "cfg = cnn_config(n_in=1, custom_head=head)"
      ],
      "execution_count": 16,
      "outputs": []
    },
    {
      "cell_type": "code",
      "metadata": {
        "id": "Lkvpmr5JJ9vP"
      },
      "source": [
        "from torchvision.ops import box_iou\n",
        "\n",
        "def encode_boxes(boxes_points):\n",
        "    boxes_points = (boxes_points + 1) / 2\n",
        "    x1, y1, x2, y2 = boxes_points[..., 0], boxes_points[..., 1], boxes_points[..., 2], boxes_points[..., 3]\n",
        "    return torch.stack((x1, y1, torch.sqrt(x2 - x1), torch.sqrt(y2 - y1)), dim=-1)\n",
        "    \n",
        "def decode_boxes(boxes_lens):\n",
        "    x, y, dx, dy = boxes_lens[..., 0], boxes_lens[..., 1], torch.square(boxes_lens[..., 2]), torch.square(boxes_lens[..., 3])\n",
        "    boxes_points = torch.stack((x, y, x + dx, y + dy), dim=-1)\n",
        "    return 2 * boxes_points - 1\n",
        "\n",
        "class MseAndCrossEntropy(Module):\n",
        "    def forward(self, pred, target_bboxes, target_cat):\n",
        "        bboxes_preds = torch.sigmoid(pred[..., CATS:]).view((-1, N_BBOXES, POINTS_PER_BBOX))\n",
        "        mask = (target_cat > 0)\n",
        "\n",
        "        box_loss = F.mse_loss(bboxes_preds[mask], target_bboxes[mask])\n",
        "        ce_loss = F.cross_entropy(pred[..., :CATS], target_cat[..., 0] - 1)\n",
        "        return ce_loss + 50 * torch.sqrt(box_loss)\n",
        "\n",
        "def ops_accuracy(pred, target_bboxes, target_cat):\n",
        "    return accuracy(pred[..., :CATS], target_cat[..., 0] - 1)\n",
        "    \n",
        "def boxes_iou(pred, target_bboxes, target_cat):\n",
        "    bboxes_preds = torch.sigmoid(pred[..., CATS:]).view((-1, N_BBOXES, POINTS_PER_BBOX))\n",
        "    bboxes_decoded = decode_boxes(bboxes_preds)\n",
        "\n",
        "    mask = (target_cat > 0)\n",
        "    x, y = bboxes_decoded[mask], target_bboxes[mask]\n",
        "    ious = torch.diagonal(box_iou(x, y))\n",
        "    return ious.mean()\n",
        "\n",
        "\n",
        "@log_args\n",
        "class ITLLoss(BaseLoss):\n",
        "    def __init__(self, *args, axis=-1, **kwargs):\n",
        "        super().__init__(MseAndCrossEntropy, *args, axis=axis, **kwargs)\n",
        "\n",
        "    def __call__(self, inp, targ, labels, **kwargs):\n",
        "        targ_encoded = encode_boxes(targ)\n",
        "\n",
        "        return self.func.__call__(inp, targ_encoded, labels)\n",
        "\n",
        "    def decodes(self, x):\n",
        "        categories, bboxes = x[...,:CATS], x[...,CATS:]\n",
        "        bboxes = torch.sigmoid(bboxes)\n",
        "\n",
        "        # Scaling back\n",
        "        bboxes = decode_boxes(bboxes.view(-1, 2, 4))\n",
        "        \n",
        "\n",
        "        cats = (1 + categories.argmax(dim=-1)).unsqueeze(dim=-1)\n",
        "\n",
        "        cats_stacked = torch.cat((cats, torch.zeros(cats.shape, dtype=torch.int64)), axis=-1)\n",
        "        n = bboxes.shape[0]\n",
        "        for i in range(n):\n",
        "            current_cat = cats[i, 0]\n",
        "\n",
        "            cat_lbl = dls.vocab[current_cat]\n",
        "\n",
        "            if ops_cfg[cat_lbl]['operands'] == 2:\n",
        "                cats_stacked[i, 1] = cats_stacked[i, 0]\n",
        "            else:\n",
        "                bboxes[i, 1] = 0\n",
        "\n",
        "        return bboxes, TensorMultiCategory(cats_stacked)\n"
      ],
      "execution_count": 17,
      "outputs": []
    },
    {
      "cell_type": "code",
      "metadata": {
        "id": "uokx32ABlOkk"
      },
      "source": [
        "learn = cnn_learner(dls, xse_resnext18, loss_func=ITLLoss(), pretrained=False, config=cfg,\n",
        "                    metrics=[ops_accuracy, boxes_iou])"
      ],
      "execution_count": 18,
      "outputs": []
    },
    {
      "cell_type": "code",
      "metadata": {
        "id": "x9fVIUeWZ-mA",
        "outputId": "85b60c7b-3a39-42c1-fcf1-ca52c70e6be1",
        "colab": {
          "base_uri": "https://localhost:8080/"
        }
      },
      "source": [
        "!wget https://students.mimuw.edu.pl/~mt406390/machine_learning/infer30_16.pth\n",
        "!mkdir models\n",
        "!mv infer30_16.pth models/"
      ],
      "execution_count": 19,
      "outputs": [
        {
          "output_type": "stream",
          "text": [
            "--2020-11-02 17:20:54--  https://students.mimuw.edu.pl/~mt406390/machine_learning/infer30_16.pth\n",
            "Resolving students.mimuw.edu.pl (students.mimuw.edu.pl)... 193.0.96.129, 2001:6a0:5001:1::3\n",
            "Connecting to students.mimuw.edu.pl (students.mimuw.edu.pl)|193.0.96.129|:443... connected.\n",
            "HTTP request sent, awaiting response... 200 OK\n",
            "Length: 55125825 (53M)\n",
            "Saving to: ‘infer30_16.pth’\n",
            "\n",
            "infer30_16.pth      100%[===================>]  52.57M  4.90MB/s    in 11s     \n",
            "\n",
            "2020-11-02 17:21:06 (4.62 MB/s) - ‘infer30_16.pth’ saved [55125825/55125825]\n",
            "\n"
          ],
          "name": "stdout"
        }
      ]
    },
    {
      "cell_type": "code",
      "metadata": {
        "id": "hpfEXDyeXCq-",
        "outputId": "cd4e0a58-687d-4763-be75-5ac567e764b4",
        "colab": {
          "base_uri": "https://localhost:8080/"
        }
      },
      "source": [
        "learn.load('infer30_16')"
      ],
      "execution_count": 20,
      "outputs": [
        {
          "output_type": "execute_result",
          "data": {
            "text/plain": [
              "<fastai.learner.Learner at 0x7f9a31ef6908>"
            ]
          },
          "metadata": {
            "tags": []
          },
          "execution_count": 20
        }
      ]
    },
    {
      "cell_type": "markdown",
      "metadata": {
        "id": "tdBRssmlyCHa"
      },
      "source": [
        "# Example CNN predictions"
      ]
    },
    {
      "cell_type": "code",
      "metadata": {
        "id": "kBAFPaq6CUNM",
        "outputId": "8aac2398-4011-4843-d403-97054e03d177",
        "colab": {
          "base_uri": "https://localhost:8080/",
          "height": 683
        }
      },
      "source": [
        "learn.show_results(max_n=20)"
      ],
      "execution_count": 27,
      "outputs": [
        {
          "output_type": "display_data",
          "data": {
            "text/html": [
              ""
            ],
            "text/plain": [
              "<IPython.core.display.HTML object>"
            ]
          },
          "metadata": {
            "tags": []
          }
        },
        {
          "output_type": "display_data",
          "data": {
            "image/png": "[encoded data removed]",
            "text/plain": [
              "<Figure size 864x864 with 16 Axes>"
            ]
          },
          "metadata": {
            "tags": [],
            "needs_background": "light"
          }
        }
      ]
    },
    {
      "cell_type": "markdown",
      "metadata": {
        "id": "C1d4INwBx5aB"
      },
      "source": [
        "# ITL model inference"
      ]
    },
    {
      "cell_type": "code",
      "metadata": {
        "id": "YKU6ClxA28v1"
      },
      "source": [
        "class Predictor():\n",
        "    def __init__(self, learn: Learner):\n",
        "        self.learn = learn\n",
        "\n",
        "        self.labeler, self.point_scaler, self.to_tensor = learn.dls.valid.after_item\n",
        "        self.scale_pixels = learn.dls.valid.after_batch[0]\n",
        "\n",
        "        self.tfms = [self.labeler, self.point_scaler, self.to_tensor, self.scale_pixels]\n",
        "\n",
        "        self.loss = ITLLoss()\n",
        "    \n",
        "    def _transform_img(self, img: PILImageBW) -> TensorImageBW:\n",
        "        return self.scale_pixels(self.to_tensor(self.labeler(self.point_scaler(img))))[None]\n",
        "\n",
        "    def _decode_after_fastai(self, boxes, cats):\n",
        "        boxes = ((1 + boxes) / 2) * img.shape[1]\n",
        "        \n",
        "        x1, y1, x2, y2 = (boxes[0, :, i] for i in range(POINTS_PER_BBOX))\n",
        "        boxes_coco = torch.stack((x1, y1, x2 - x1, y2 - y1), dim=-1)\n",
        "\n",
        "        cat = self.learn.dls.vocab[cats[0, 0]]\n",
        "        return boxes_coco, cat\n",
        "\n",
        "    def _decode_preds(self, x):\n",
        "        boxes, cats = self.loss.decodes(x)\n",
        "        return self._decode_after_fastai(boxes, cats)\n",
        "\n",
        "\n",
        "    def predict(self, img: PILImageBW):\n",
        "        with torch.no_grad():\n",
        "            preds = self.learn.model(to_device(self._transform_img(img), default_device()))\n",
        "\n",
        "        return self._decode_preds(preds.cpu())"
      ],
      "execution_count": 28,
      "outputs": []
    },
    {
      "cell_type": "code",
      "metadata": {
        "id": "a__KYhXLfDEX"
      },
      "source": [
        "import abc\n",
        "from dataclasses import dataclass\n",
        "from typing import List\n",
        "\n",
        "@dataclass\n",
        "class Box:\n",
        "    x: int\n",
        "    y: int\n",
        "    dx: int\n",
        "    dy: int\n",
        "\n",
        "@dataclass\n",
        "class Operator:\n",
        "    op_id: str\n",
        "\n",
        "@dataclass\n",
        "class Prediction:\n",
        "    op: Operator\n",
        "    bboxes: List[Box]\n",
        "\n",
        "class Model(abc.ABC):\n",
        "    @abc.abstractmethod\n",
        "    def predict(self, input) -> Prediction:\n",
        "        raise NotImplementedError\n",
        "\n",
        "class ModelExample(Model):\n",
        "    def predict(self, input) -> Prediction:\n",
        "        return 'add', [Box(25, 25, 17, 17), Box(34, 34, 17, 17)]\n",
        "\n",
        "class FastaiModelAdapter(Model):\n",
        "    def __init__(self, predictor: Predictor):\n",
        "        self._pred = predictor\n",
        "\n",
        "    def _box_from_tensor(self, box_tensor):\n",
        "        return Box(*map(lambda x: int(x.round().item()), box_tensor))\n",
        "\n",
        "    def _make_pred(self, boxes_tensor, cat):\n",
        "        boxes = [self._box_from_tensor(boxes_tensor[i])\n",
        "            for i in range(boxes_tensor.shape[0])]\n",
        "\n",
        "        return Prediction(\n",
        "            op=Operator(cat),\n",
        "            bboxes=boxes\n",
        "        )\n",
        "\n",
        "    def predict(self, input: PILImageBW) -> Prediction:\n",
        "        return self._make_pred(*self._pred.predict(input))\n"
      ],
      "execution_count": 29,
      "outputs": []
    },
    {
      "cell_type": "code",
      "metadata": {
        "id": "A3F75fSl1F-_"
      },
      "source": [
        "pred = Predictor(learn)\n",
        "fastai_model = FastaiModelAdapter(pred)"
      ],
      "execution_count": 30,
      "outputs": []
    },
    {
      "cell_type": "code",
      "metadata": {
        "id": "hrZ3I2660XNm"
      },
      "source": [
        "import cv2\n",
        "from google.colab.patches import cv2_imshow\n",
        "\n",
        "def resize_and_center_pred(full_img: PILImageBW, pred_bbox: Box) -> PILImageBW:\n",
        "    def crop_img(image, bbox):\n",
        "        proc = 0.03\n",
        "        x_margin, y_margin = int(proc * bbox.dx), int(proc * bbox.dy) \n",
        "        return image[bbox.y:bbox.y + bbox.dy + y_margin, bbox.x:bbox.x + bbox.dx + x_margin]\n",
        "\n",
        "    img_arr = np.array(full_img)\n",
        "    img_cropped = crop_img(img_arr, pred_bbox)\n",
        "\n",
        "    DIM, WHITE = 224, 255\n",
        "    res = np.full((DIM, DIM), WHITE, dtype=np.uint8)\n",
        "\n",
        "    y_shift = (DIM - img_cropped.shape[0]) // 2\n",
        "    x_shift = (DIM - img_cropped.shape[1]) // 2\n",
        "    \n",
        "    res[y_shift:y_shift + img_cropped.shape[0], x_shift:x_shift + img_cropped.shape[1]] = img_cropped\n",
        "\n",
        "    return PILImageBW.create(res)\n"
      ],
      "execution_count": 31,
      "outputs": []
    },
    {
      "cell_type": "markdown",
      "metadata": {
        "id": "RpuBVnpD_j9I"
      },
      "source": [
        "# seq2seq model (for leaves)\n",
        "\n",
        "PyTorch implementation of https://arxiv.org/abs/1609.04938v2\n",
        "forked from [im2latex](https://github.com/ArminKaramzade/im2latex)"
      ]
    },
    {
      "cell_type": "code",
      "metadata": {
        "id": "rgIfh_Y03u0U"
      },
      "source": [
        "import os\n",
        "import pickle\n",
        "from collections import defaultdict\n",
        "import torch\n",
        "import glob\n",
        "import sys\n",
        "import cv2\n",
        "import numpy as np\n",
        "import datetime, pytz\n",
        "from torchvision import transforms\n",
        "from PIL import Image\n",
        "\n",
        "class utils:\n",
        "    class Vocab:\n",
        "        def __init__(self, config):\n",
        "            '''\n",
        "                config: pathes, unk_threshold=2\n",
        "            '''\n",
        "            self.pathes = config['pathes']\n",
        "            self.unk_threshold = config.get('unk_threshold', 2)\n",
        "            self.token2idx = {}\n",
        "            self.idx2token = {}\n",
        "            self.load()\n",
        "\n",
        "        def build(self):\n",
        "            self.start_token = 0\n",
        "            self.end_token = 1\n",
        "            self.pad_token = 2\n",
        "            self.unk_token = 3\n",
        "            self.frequency = defaultdict(int)\n",
        "            self.total = 0\n",
        "            for path in self.pathes:\n",
        "                formulas = open(path, 'r')\n",
        "                lines = formulas.readlines()\n",
        "                for line in lines:\n",
        "                    tokens = line.rstrip('\\n').strip(' ').split()\n",
        "                    for token in tokens:\n",
        "                        self.frequency[token] += 1\n",
        "                        self.total += 1\n",
        "            self.token2idx = {'<f>' : 0, '</f>' : 1, '<pad>' : 2, '<unk>' : 3}\n",
        "            self.idx2token = {0 : '<f>', 1 : '</f>', 2 : '<pad>', 3 : '<unk>'}\n",
        "            idx = 4\n",
        "            for path in self.pathes:\n",
        "                formulas = open(path, 'r')\n",
        "                lines = formulas.readlines()\n",
        "                for line in lines:\n",
        "                    tokens = line.rstrip('\\n').strip(' ').split()\n",
        "                    for token in tokens:\n",
        "                        if self.is_eligible(token) and token not in self.token2idx:\n",
        "                            self.token2idx[token] = idx\n",
        "                            self.idx2token[idx] = token\n",
        "                            idx += 1\n",
        "            # save vocab\n",
        "            if not os.path.isdir('vocab'):\n",
        "                os.mkdir('vocab')\n",
        "            f = open(os.path.join('vocab', 'vocab.pkl'), 'wb')\n",
        "            pickle.dump(self, f)\n",
        "            f.close()\n",
        "\n",
        "        def is_eligible(self, token):\n",
        "            if self.frequency[token] >= self.unk_threshold:\n",
        "                return True\n",
        "            return False\n",
        "\n",
        "        def load(self):\n",
        "            try:\n",
        "                with open(os.path.join('vocab', 'vocab.pkl'), 'rb') as f:\n",
        "                    vocab = pickle.load(f)\n",
        "                    self.token2idx = vocab.token2idx\n",
        "                    self.idx2token = vocab.idx2token\n",
        "                    self.start_token = vocab.start_token\n",
        "                    self.unk_token = vocab.unk_token\n",
        "                    self.pad_token = vocab.pad_token\n",
        "                    self.end_token = vocab.end_token\n",
        "                    self.frequency = vocab.frequency\n",
        "                    self.total = vocab.total\n",
        "            except:\n",
        "                self.build()\n",
        "\n",
        "        def formulas2tensor(self, formulas, max_len):\n",
        "            sz = max_len + 2\n",
        "            tensor = np.zeros((len(formulas), sz))\n",
        "            for i in range(tensor.shape[0]):\n",
        "                tensor[i, 0] = self.start_token\n",
        "                for j in range(len(formulas[i])):\n",
        "                    tensor[i, j+1] = self.token2idx.get(formulas[i][j], self.unk_token)\n",
        "                for j in range(len(formulas[i])+1, sz-1):\n",
        "                    tensor[i, j] = self.pad_token\n",
        "                tensor[i, sz-1] = self.end_token\n",
        "            return tensor\n",
        "\n",
        "        def tensor2formula(self, tensor, pretty=False, tags=True):\n",
        "            if not pretty:\n",
        "                if tags:\n",
        "                    return ' '.join(self.idx2token[tensor[i]] for i in range(tensor.shape[0]))\n",
        "                else:\n",
        "                    return ' '.join(self.idx2token[tensor[i]] for i in range(tensor.shape[0])\n",
        "                                    if self.idx2token[tensor[i]] not in ['<f>', '</f>', '<pad>'])\n",
        "            else:\n",
        "                s = ' '.join(self.idx2token[tensor[i]] for i in range(tensor.shape[0]))\n",
        "                end = s.find('</f>')\n",
        "                if end != -1 : end = end - 1\n",
        "                s = s[4:end]\n",
        "                s = s.replace('<pad>', '')\n",
        "                s = s.replace('<unk>', '')\n",
        "                return s\n",
        "\n",
        "    class data_loader:\n",
        "        def __init__(self, vocab, config, train=False):\n",
        "            '''\n",
        "                config: vocab, batch_size, images_path, formulas_path=None, sort_by_formulas_len=False, shuffle=False):\n",
        "            '''\n",
        "            self.vocab = vocab\n",
        "            self.batch_size = config['batch_size']\n",
        "            self.images_path = config['images_path']\n",
        "            self.formulas_path = config.get('formulas_path', None)\n",
        "            self.sort_by_formulas_len = config.get('sort_by_formulas_len', False)\n",
        "            self.shuffle = config.get('shuffle', False)\n",
        "            self.cursor = 0\n",
        "            self.images = glob.glob(self.images_path + '/*.png')\n",
        "            self.images.sort()\n",
        "            self.images.sort(key=len)\n",
        "            self.has_label = (self.formulas_path is not None)\n",
        "            if self.has_label:\n",
        "                with open(self.formulas_path, 'r') as f:\n",
        "                    self.formulas = [line.rstrip('\\n').strip(' ').split()\n",
        "                                    for line in f.readlines()]\n",
        "                assert(len(self.images) == len(self.formulas))\n",
        "                assert(not (self.shuffle and self.sort_by_formulas_len))\n",
        "                self.max_len = 0\n",
        "                for formula in self.formulas: self.max_len = max(self.max_len, len(formula))\n",
        "                if self.sort_by_formulas_len:\n",
        "                    zipped = sorted(enumerate(self.formulas), key=lambda x: len(x[1]), reverse=True)\n",
        "                    idx, self.formulas = zip(*zipped)\n",
        "                    self.images = [self.images[i] for i in idx]\n",
        "                if self.shuffle:\n",
        "                    idx = np.random.permutation(len(self.formulas))\n",
        "                    self.formulas = [self.formulas[i] for i in idx]\n",
        "                    self.images = [self.images[i] for i in idx]\n",
        "            if train:\n",
        "                self.data_transforms = transforms.Compose([\n",
        "                    transforms.Grayscale(num_output_channels=1),\n",
        "                    transforms.RandomAffine(\n",
        "                        degrees=5,\n",
        "                        translate=(0.1, 0.1),\n",
        "                        scale=(0.15, 1.1),\n",
        "                        fillcolor=255\n",
        "                    ),\n",
        "                    transforms.ColorJitter(brightness=0.05, saturation=0.05),\n",
        "                    transforms.ToTensor()\n",
        "                ])\n",
        "            else:\n",
        "                self.data_transforms = transforms.Compose([\n",
        "                    transforms.Grayscale(num_output_channels=1),\n",
        "                    transforms.ToTensor()                            \n",
        "                ])\n",
        "\n",
        "        def get_next_batch(self):\n",
        "            current_batch_size = min(self.batch_size, len(self.images)-self.cursor)\n",
        "            if current_batch_size == 0: end_of_epoch = True\n",
        "            if self.has_label:\n",
        "                if self.sort_by_formulas_len:\n",
        "                    max_batch_len = len(self.formulas[self.cursor])\n",
        "                else:\n",
        "                    max_batch_len = -1\n",
        "                    for i in range(self.cursor, self.cursor+current_batch_size):\n",
        "                        max_batch_len = max(max_batch_len, len(self.formulas[i]))\n",
        "                batch_formulas_tensor = self.vocab.formulas2tensor(self.formulas[self.cursor:self.cursor+current_batch_size], max_batch_len)\n",
        "            batch_imgs = []\n",
        "            for i in range(current_batch_size):\n",
        "                img = Image.open(self.images[self.cursor])\n",
        "                img = self.data_transforms(img)\n",
        "                batch_imgs.append(img)\n",
        "                end_of_epoch = self.move_cursor()\n",
        "            if self.has_label:\n",
        "                return torch.stack(batch_imgs), batch_formulas_tensor, end_of_epoch\n",
        "            else:\n",
        "                return torch.stack(batch_imgs), end_of_epoch\n",
        "\n",
        "        def move_cursor(self):\n",
        "            self.cursor += 1\n",
        "            if len(self.images) <= self.cursor:\n",
        "                self.reset_cursor()\n",
        "                return True\n",
        "            return False\n",
        "\n",
        "        # def normalize(self, image):\n",
        "        #     return (image / 255.) * 2 - 1\n",
        "\n",
        "        def reset_cursor(self):\n",
        "            self.cursor = 0\n",
        "\n",
        "    class Logger:\n",
        "        def __init__(self, config):\n",
        "            '''\n",
        "                config: owner, log_dir, timezone\n",
        "            '''\n",
        "            self.owner = config['owner']\n",
        "            self.log_dir = config['log_dir']\n",
        "            if not os.path.isdir(os.path.dirname(self.log_dir)):\n",
        "                os.mkdir(os.path.dirname(self.log_dir))\n",
        "            self.timezone = config['timezone']\n",
        "            self.log = open(self.log_dir, 'a')\n",
        "\n",
        "        def __call__(self, message):\n",
        "            tz = pytz.timezone(self.timezone)\n",
        "            ts = pytz.utc.localize(datetime.datetime.utcnow()).astimezone(tz).strftime(\"%Y-%m-%d %H:%M:%S\")\n",
        "            print('[{}], {}: {}'.format(self.owner, ts, message))\n",
        "            print('[{}], {}: {}'.format(self.owner, ts, message), file=self.log)"
      ],
      "execution_count": 32,
      "outputs": []
    },
    {
      "cell_type": "code",
      "metadata": {
        "id": "ys3aRVBp3zQk"
      },
      "source": [
        "import torch\n",
        "import torch.nn as nn\n",
        "import torch.nn.functional as F\n",
        "\n",
        "class CNN(nn.Module):\n",
        "    def __init__(self, params):\n",
        "        super(CNN, self).__init__()\n",
        "\n",
        "        self.conv1 = nn.Conv2d(in_channels=1, out_channels=params['conv1_c'],\n",
        "                               kernel_size=params['conv1_k'], stride=params['conv1_s'],\n",
        "                               padding=params['conv1_p'])\n",
        "\n",
        "        self.pool1 = nn.MaxPool2d(kernel_size=params['pool1_k'], stride=params['pool1_s'],\n",
        "                                  padding=params['pool1_p'])\n",
        "\n",
        "        self.conv2 = nn.Conv2d(in_channels=params['conv1_c'], out_channels=params['conv2_c'],\n",
        "                               kernel_size=params['conv2_k'], stride=params['conv2_s'],\n",
        "                               padding=params['conv2_p'])\n",
        "\n",
        "        self.pool2 = nn.MaxPool2d(kernel_size=params['pool2_k'], stride=params['pool2_s'],\n",
        "                                  padding=params['pool2_p'])\n",
        "\n",
        "        self.conv3 = nn.Conv2d(in_channels=params['conv2_c'], out_channels=params['conv3_c'],\n",
        "                               kernel_size=params['conv3_k'], stride=params['conv3_s'],\n",
        "                               padding=params['conv3_p'])\n",
        "\n",
        "        self.conv3_bn = nn.BatchNorm2d(params['conv3_c'])\n",
        "\n",
        "        self.conv4 = nn.Conv2d(in_channels=params['conv3_c'], out_channels=params['conv4_c'],\n",
        "                               kernel_size=params['conv4_k'], stride=params['conv4_s'],\n",
        "                               padding=params['conv4_p'])\n",
        "\n",
        "        self.pool3 = nn.MaxPool2d(kernel_size=params['pool3_k'], stride=params['pool3_s'],\n",
        "                                  padding=params['pool3_p'])\n",
        "\n",
        "        self.conv5 = nn.Conv2d(in_channels=params['conv4_c'], out_channels=params['conv5_c'],\n",
        "                               kernel_size=params['conv5_k'], stride=params['conv5_s'],\n",
        "                               padding=params['conv5_p'])\n",
        "\n",
        "        self.conv5_bn = nn.BatchNorm2d(params['conv5_c'])\n",
        "\n",
        "        self.pool4 = nn.MaxPool2d(kernel_size=params['pool4_k'], stride=params['pool4_s'],\n",
        "                                  padding=params['pool4_p'])\n",
        "\n",
        "        self.conv6 = nn.Conv2d(in_channels=params['conv5_c'], out_channels=params['conv6_c'],\n",
        "                               kernel_size=params['conv6_k'], stride=params['conv6_s'],\n",
        "                               padding=params['conv6_p'])\n",
        "\n",
        "        self.conv6_bn = nn.BatchNorm2d(params['conv6_c'])\n",
        "\n",
        "    def forward(self, x):\n",
        "        x = F.relu(self.conv1(x))\n",
        "        x = self.pool1(x)\n",
        "        x = F.relu(self.conv2(x))\n",
        "        x = self.pool2(x)\n",
        "        x = F.relu(self.conv3_bn(self.conv3(x)))\n",
        "        x = F.relu(self.conv4(x))\n",
        "        x = self.pool3(x)\n",
        "        x = F.relu(self.conv5_bn(self.conv5(x)))\n",
        "        x = self.pool4(x)\n",
        "        x = F.relu(self.conv6_bn(self.conv6(x)))\n",
        "        return x\n"
      ],
      "execution_count": 33,
      "outputs": []
    },
    {
      "cell_type": "code",
      "metadata": {
        "id": "zWMGRi-B34Nq"
      },
      "source": [
        "class Encoder(nn.Module):\n",
        "    def __init__(self, input_size, hidden_size, bidirectional, device):\n",
        "        super(Encoder, self).__init__()\n",
        "        self.hidden_size = hidden_size\n",
        "        self.device = device\n",
        "        self.bidirectional = bidirectional\n",
        "        self.lstm = nn.LSTM(input_size, hidden_size,\n",
        "                            batch_first=True, bidirectional=bidirectional)\n",
        "\n",
        "    def forward(self, x):\n",
        "        # x -> (batch, time, encoder_input_size)\n",
        "        outputs, (hn, cn) = self.lstm(x, self.init_hidden(x.shape[0]))\n",
        "        # outputs: ecnoder hiddens -> (batch, time, directions x encoder_hidden_size)\n",
        "        # hn, cn -> (#layers, batch, directions x encoder_hidden_size)\n",
        "        return outputs, (self.cat_directions(hn), self.cat_directions(cn))\n",
        "\n",
        "    def init_hidden(self, batch_size):\n",
        "        if self.bidirectional:\n",
        "            return (torch.zeros(2, batch_size, self.hidden_size, device=self.device),\n",
        "                    torch.zeros(2, batch_size, self.hidden_size, device=self.device))\n",
        "        else:\n",
        "            return (torch.zeros(1, batch_size, self.hidden_size, device=self.device),\n",
        "                    torch.zeros(1, batch_size, self.hidden_size, device=self.device))\n",
        "\n",
        "    def cat_directions(self, h):\n",
        "        if self.bidirectional:\n",
        "            h = torch.cat([h[0:h.size(0):2], h[1:h.size(0):2]], 2)\n",
        "        return h\n",
        "\n",
        "class Embedding(nn.Module):\n",
        "    def __init__(self, input_size, embedded_size, padding_idx):\n",
        "        super(Embedding, self).__init__()\n",
        "        self.embedding = nn.Embedding(input_size, embedded_size, padding_idx=padding_idx)\n",
        "\n",
        "    def forward(self, x):\n",
        "        # x: symbols id -> (batch, time)\n",
        "        embedded = self.embedding(x)\n",
        "        # embedded -> (batch, time, embedded_size)\n",
        "        return embedded\n",
        "\n",
        "class BahdanauAttention(nn.Module):\n",
        "    def __init__(self, query_size, memory_size, hidden_size):\n",
        "        '''\n",
        "            query_size = decoder_hidden_size\n",
        "            memory_size = encoder_hidden_size\n",
        "        '''\n",
        "        super(BahdanauAttention, self).__init__()\n",
        "        self.query_layer = nn.Linear(query_size, hidden_size, bias=False)\n",
        "        self.memory_layer = nn.Linear(memory_size, hidden_size, bias=False)\n",
        "        self.alignment_layer = nn.Linear(hidden_size, 1, bias=False)\n",
        "\n",
        "    def score(self, query, keys):\n",
        "        query = self.query_layer(query) # (batch, 1, hidden_size)\n",
        "        keys = self.memory_layer(keys) # (batch, time, hidden_size)\n",
        "        alignments = self.alignment_layer(torch.tanh(query + keys)) # (batch, time, 1)\n",
        "        return alignments\n",
        "\n",
        "    def forward(self, query, keys):\n",
        "        '''\n",
        "            query: last hidden of top layer decoder -> (batch, 1, query_size)\n",
        "            keys: encoder outputs -> (batch, time, memory_size)\n",
        "            return context -> (batch, 1, memory_size),\n",
        "                   weights -> (batch, 1, time)\n",
        "        '''\n",
        "        scores = self.score(query, keys) # (batch, time, 1)\n",
        "        weights = F.softmax(scores, dim=1).transpose(1, 2) # (batch, 1, time)\n",
        "        context = torch.bmm(weights, keys) # (batch, 1, memory_size)\n",
        "        return context, weights\n",
        "\n",
        "class AttnDecoder(nn.Module):\n",
        "    def __init__(self, input_size, hidden_size, encoder_hidden_size, output_size, device):\n",
        "        super(AttnDecoder, self).__init__()\n",
        "        self.hidden_size = hidden_size\n",
        "        self.output_size = output_size\n",
        "        self.device = device\n",
        "        self.lstm = nn.LSTM(input_size+hidden_size, hidden_size, batch_first=True)\n",
        "        self.attn = BahdanauAttention(hidden_size, encoder_hidden_size, hidden_size)\n",
        "        self.o = nn.Linear(2*hidden_size, hidden_size, bias=False)\n",
        "        self.out = nn.Linear(hidden_size, output_size, bias=False)\n",
        "\n",
        "    def forward(self, x, hp, cp, op, encoder_outputs):\n",
        "        # x -> (batch, 1, input_size)\n",
        "        # op -> (batch, hidden_size)\n",
        "        # hp, cp -> (#layers, batch, hidden_size)\n",
        "        # encoder_outputs -> (batch, time, #directions*encoder_hidden_size)\n",
        "        lstm_input = torch.cat([x, op.unsqueeze(dim=1)], dim=2) # (batch, 1, input_size + hidden_size)\n",
        "        hidden, (hn, cn) = self.lstm(lstm_input, (hp, cp))\n",
        "        # hidden -> (batch, 1, hidden_size)\n",
        "        # (hn, cn) -> (#layers, batch, hidden_size)\n",
        "        context, attn_weights = self.attn(hidden, encoder_outputs)\n",
        "        # context -> (batch, 1, hidden_size)\n",
        "        # attn_weights -> (batch, 1, time)\n",
        "        o_input = torch.cat([hidden.squeeze(1), context.squeeze(1)], dim=1) # (batch, 2*hidden_size)\n",
        "        on = torch.tanh(self.o(o_input))\n",
        "        # next_o -> (batch, hidden_size)\n",
        "        output = F.log_softmax(self.out(on), dim=1)\n",
        "        # output: log softmax of symbol scores -> (batch, output_size)\n",
        "        return output, (hn, cn), on, attn_weights"
      ],
      "execution_count": 34,
      "outputs": []
    },
    {
      "cell_type": "code",
      "metadata": {
        "id": "LFK_p6r_4Eup"
      },
      "source": [
        "from torch import optim\n",
        "import numpy as np\n",
        "\n",
        "class GreedyDecoder:\n",
        "    def __init__(self, model, max_len, hn, cn, on, encoder_outputs, device):\n",
        "        self.model = model\n",
        "        self.max_len = max_len\n",
        "        self.hn = hn\n",
        "        self.cn = cn\n",
        "        self.on = on\n",
        "        self.encoder_outputs = encoder_outputs\n",
        "        self.device = device\n",
        "\n",
        "    def generate(self, start_token):\n",
        "        next_token = torch.Tensor([start_token]).long().to(self.device) # (1)\n",
        "        b = self.encoder_outputs.shape[0]\n",
        "        next_token = next_token.repeat(b) # (batch)\n",
        "        logits = []\n",
        "        preds = [next_token]\n",
        "        attn_weights = []\n",
        "        hn = self.hn\n",
        "        cn = self.cn\n",
        "        on = self.on\n",
        "        for t in range(1, self.max_len):\n",
        "            output, (hn, cn), on, attn_weight = self.model.decoder_step(next_token, hn, cn, on, self.encoder_outputs)\n",
        "            attn_weights.append(attn_weight.squeeze(1))\n",
        "            logits.append(output)\n",
        "            next_token = output.argmax(dim=1) # (batch)\n",
        "            preds.append(next_token)\n",
        "        logits = [torch.zeros(logits[1].shape[0], logits[1].shape[1], device=self.device)] + logits\n",
        "        logits[0][:, start_token] = 1\n",
        "        logits = torch.stack(logits, dim=1)\n",
        "        preds = torch.stack(preds, dim=1)\n",
        "        attn_weights = torch.stack(attn_weights, dim=1)\n",
        "        return preds, logits, attn_weights\n",
        "\n",
        "class Model(nn.Module):\n",
        "    def __init__(self, cnn, encoder, embedding, decoder, device):\n",
        "        super(Model, self).__init__()\n",
        "        self.cnn = cnn\n",
        "        self.encoder = encoder\n",
        "        self.embedding = embedding\n",
        "        self.decoder = decoder\n",
        "        self.device = device\n",
        "\n",
        "        directions = 2 if self.encoder.bidirectional else 1\n",
        "\n",
        "        self.init_h = nn.Linear(directions*self.encoder.hidden_size, self.decoder.hidden_size).to(self.device)\n",
        "        self.init_o = nn.Linear(directions*self.encoder.hidden_size, self.decoder.hidden_size).to(self.device)\n",
        "\n",
        "    def get_cnn_feature(self, x):\n",
        "        '''\n",
        "            input:\n",
        "                > x: image (batch, 1, H, W)\n",
        "            return:\n",
        "                > cnn feature map (batch, C, H', W')\n",
        "        '''\n",
        "        x = self.cnn(x)\n",
        "        return x\n",
        "\n",
        "    def get_encoder_anotation_grid(self, x):\n",
        "        '''\n",
        "            input:\n",
        "                > x: cnn feature map (batch, C, H', W')\n",
        "\n",
        "            return:\n",
        "                > encoder_outputs: top layer hidden states of encoder applied on H' row of x\n",
        "                                   (batch, H', W', directions * encoder_hidden_size)\n",
        "                > hn, cn: last hidden states of encoder applied on H' row of x\n",
        "                          (#layers, batch, H', decoder_hidden_size)\n",
        "\n",
        "        '''\n",
        "        B, C, H_prime, W_prime = x.shape\n",
        "        x = x.permute(0, 2, 3, 1).contiguous().view(B*H_prime, W_prime, C) # (batch * H', W', C)\n",
        "        encoder_outputs, (hn, cn) = self.encoder(x)\n",
        "        # encoder_outputs -> (batch * H', W', directions * encoder_hidden_size)\n",
        "        # hn, cn -> (#layers, batch * H', directions * encoder_hidden_size)\n",
        "        encoder_outputs = encoder_outputs.view(B, H_prime, W_prime, -1).contiguous()\n",
        "        hn = hn.view(hn.shape[0], B, H_prime, -1).contiguous()\n",
        "        cn = hn.view(hn.shape[0], B, H_prime, -1).contiguous()\n",
        "        return encoder_outputs, (hn, cn)\n",
        "\n",
        "    def add_positional_embedding(self, x):\n",
        "        '''\n",
        "            input:\n",
        "                > x: (batch, W'*H', directions * encoder_hidden_size)\n",
        "            return:\n",
        "                > x + positional_embedding\n",
        "        '''\n",
        "        n_position = x.shape[1]\n",
        "        emb_dim = x.shape[2]\n",
        "        position_enc = np.array([\n",
        "                        [pos / np.power(10000, 2 * (j // 2) / emb_dim) for j in range(emb_dim)]\n",
        "                         for pos in range(n_position)])\n",
        "        position_enc[1:, 0::2] = np.sin(position_enc[1:, 0::2])\n",
        "        position_enc[1:, 1::2] = np.cos(position_enc[1:, 1::2])\n",
        "        return x + torch.from_numpy(position_enc).type(torch.FloatTensor).to(self.device)\n",
        "\n",
        "    def decoder_step(self, input_token, hp, cp, op, encoder_outputs):\n",
        "        '''\n",
        "            input:\n",
        "                > input_token: one hot input token (batch)\n",
        "                > hp, cp: previous states (#layers, batch, decoder_hidden_size)\n",
        "                > op: previous o (batch, decoder_hidden_size)\n",
        "                > encoder_outputs: top layer encoder states (batch, H'*W', directions * encoder_hidden_size)\n",
        "            return:\n",
        "                > output: log probability of next token (batch, vocab_size)\n",
        "                > hn, cn: next hidden states (#layers, batch, decoder_hidden_size)\n",
        "                > on: next (batch, decoder_hidden_size)\n",
        "                > attn_weight: attention alignments (batch, 1, H'*W')\n",
        "        '''\n",
        "        token_embedding = self.embedding(input_token).unsqueeze(1) # (batch, 1, embedding_size)\n",
        "        output, (hn, cn), on, attn_weight = self.decoder(token_embedding, hp, cp, op, encoder_outputs)\n",
        "        return output, (hn, cn), on, attn_weight\n",
        "\n",
        "    def forward(self, x, y, teacher_forcing_ratio):\n",
        "        '''\n",
        "            input:\n",
        "                > x: image (batch, 1, H, W)\n",
        "                > y: one hot formulas (batch, len)\n",
        "                > teacher_forcing_ratio\n",
        "            return:\n",
        "                > logits: log probability of tokens (batch, len-1, vocab_size) [excluding start token]\n",
        "        '''\n",
        "        x = self.get_cnn_feature(x)\n",
        "\n",
        "        encoder_outputs, (hn, cn) = self.get_encoder_anotation_grid(x)\n",
        "\n",
        "        b, h, w, _ = encoder_outputs.shape\n",
        "        encoder_outputs = encoder_outputs.view(b, h*w, -1).contiguous() # (batch, H'*W', directions * encoder_hidden_size)\n",
        "        encoder_outputs = self.add_positional_embedding(encoder_outputs) # (batch, H'*W', directions * encoder_hidden_size)\n",
        "\n",
        "        hn = torch.tanh(self.init_h(torch.mean(encoder_outputs, dim=1))) # (batch, decoder_hidden_size)\n",
        "        hn = hn.view(1, hn.shape[0], hn.shape[1]).contiguous() # (1, batch, decoder_hidden_size)\n",
        "        cn = torch.zeros(1, b, self.decoder.hidden_size, device=self.device) # (1, batch, decoder_hidden_size)\n",
        "        on = torch.tanh(self.init_o(torch.mean(encoder_outputs, dim=1))) # (batch, decoder_hidden_size)\n",
        "\n",
        "        next_token = y[:, 0] # (batch)\n",
        "        logits = torch.zeros(y.shape[0], y.shape[1], self.decoder.output_size, device=self.device) # (batch, len, vocab_size)\n",
        "        logits[:, 0, y[0, 0]] = 1\n",
        "        for t in range(1, y.shape[1]):\n",
        "            output, (hn, cn), on, attn_weight = self.decoder_step(next_token, hn, cn, on, encoder_outputs)\n",
        "            logits[:, t, :] = output\n",
        "            if teacher_forcing_ratio < torch.rand(1).item():\n",
        "                next_token = output.exp().multinomial(1).squeeze(1) # (batch)\n",
        "            else:\n",
        "                next_token = y[:, t] # (batch)\n",
        "        return logits\n",
        "\n",
        "    def generate(self, x, start_token, max_len, method):\n",
        "        '''\n",
        "            input:\n",
        "                > x: image (batch, 1, H, W)\n",
        "                > start_token: start token index\n",
        "                > max_len: length of all generated formulas would be eless than max_len\n",
        "                > method: 'greedy' or 'beam-seach'\n",
        "            return:\n",
        "                > preds: generated sequences (batch, max_len)\n",
        "                > logits: log probability of tokens (batch, max_len-1, vocab_size)\n",
        "                > attn_weights: attention alignments (batch, max_len-1, H'*W')\n",
        "        '''\n",
        "        x = self.get_cnn_feature(x)\n",
        "        encoder_outputs, (hn, cn) = self.get_encoder_anotation_grid(x)\n",
        "        b, h, w, _ = encoder_outputs.shape\n",
        "        encoder_outputs = encoder_outputs.view(b, h*w, -1)\n",
        "        encoder_outputs = self.add_positional_embedding(encoder_outputs) # (batch, H'*W', directions * encoder_hidden_size)\n",
        "\n",
        "        hn = torch.tanh(self.init_h(torch.mean(encoder_outputs, dim=1))) # (batch, decoder_hidden_size)\n",
        "        hn = hn.view(1, hn.shape[0], hn.shape[1]).contiguous() # (1, batch, decoder_hidden_size)\n",
        "        cn = torch.zeros(1, b, self.decoder.hidden_size, device=self.device) # (1, batch, decoder_hidden_size)\n",
        "        on = torch.tanh(self.init_o(torch.mean(encoder_outputs, dim=1))) # (batch, decoder_hidden_size)\n",
        "\n",
        "        if method == 'greedy':\n",
        "            generator = GreedyDecoder(self, max_len, hn, cn, on, encoder_outputs, self.device)\n",
        "\n",
        "        elif method == 'beam-search':\n",
        "            raise NotImplementedError('beam-search method is not implemented yet.')\n",
        "            generator = BeamSearchDecoder()\n",
        "\n",
        "        preds, logits, attn_weights = generator.generate(start_token)\n",
        "        return preds, logits, attn_weights\n"
      ],
      "execution_count": 35,
      "outputs": []
    },
    {
      "cell_type": "code",
      "metadata": {
        "id": "Hp8Kyl2t482V"
      },
      "source": [
        "class Trainer:\n",
        "    def __init__(self, model, train_loader, config):\n",
        "        '''\n",
        "            config: device, checkpoints_dir, log_dir, print_every_batch, clip\n",
        "                    learning_rate, learning_rate_decay, learning_rate_decay_step, learning_rate_min\n",
        "                    teacher_forcing_ratio, teacher_forcing_ratio_decay, teacher_forcing_ratio_decay_step, teacher_forcing_ratio_min\n",
        "        '''\n",
        "        self.model = model\n",
        "        self.train_loader = train_loader\n",
        "        self.device = config['device']\n",
        "\n",
        "        self.criterian = nn.NLLLoss(ignore_index=train_loader.vocab.pad_token)\n",
        "        self.optimizer = optim.Adam(self.model.parameters(), lr=config['learning_rate'])\n",
        "        self.scheduler = optim.lr_scheduler.StepLR(self.optimizer, step_size=config['learning_rate_decay_step'],\n",
        "                                                    gamma=config['learning_rate_decay'])\n",
        "        self.learning_rate_min = config['learning_rate_min']\n",
        "\n",
        "        self.checkpoints_dir = config['checkpoints_dir']\n",
        "\n",
        "        logger_config = {\n",
        "            'owner': 'Trainer.py',\n",
        "            'log_dir' : config['log_dir'],\n",
        "            'timezone' : 'Iran',\n",
        "        }\n",
        "        self.logger = utils.Logger(logger_config)\n",
        "\n",
        "        self.clip = config['clip']\n",
        "\n",
        "        self.checkpoint_name = lambda id: 'snapshot-{:02d}.pt'.format(id)\n",
        "\n",
        "        self.print_every_batch = config['print_every_batch']\n",
        "        self.current_epoch = 0\n",
        "\n",
        "        self.teacher_forcing_ratio = config['teacher_forcing_ratio']\n",
        "        self.teacher_forcing_ratio_decay = config['teacher_forcing_ratio_decay']\n",
        "        self.teacher_forcing_ratio_decay_step = config['teacher_forcing_ratio_decay_step']\n",
        "        self.teacher_forcing_ratio_min = config['teacher_forcing_ratio_min']\n",
        "\n",
        "    def train_one_epoch(self):\n",
        "        self.logger('start training one epoch')\n",
        "        self.model.train()\n",
        "        epoch_ended = False\n",
        "        batch_counter = 0\n",
        "        epoch_loss = 0\n",
        "        epoch_acc = 0\n",
        "        predictions = []\n",
        "        while not epoch_ended:\n",
        "            x_train, y_train, epoch_ended = self.train_loader.get_next_batch()\n",
        "            x_train = x_train.to(self.device)\n",
        "            y_train = torch.from_numpy(y_train).long().to(self.device)\n",
        "            self.optimizer.zero_grad()\n",
        "            logits = self.model(x_train, y_train, self.teacher_forcing_ratio)\n",
        "            loss = self.criterian(logits[:, 1:, :].contiguous().view(-1, logits.shape[-1]),\n",
        "                                  y_train[:, 1:].contiguous().view(-1))\n",
        "            loss.backward()\n",
        "            torch.nn.utils.clip_grad_norm_(self.model.parameters(), self.clip)\n",
        "            self.optimizer.step()\n",
        "            mask = (y_train != self.train_loader.vocab.pad_token)\n",
        "            preds = logits.argmax(dim=2)\n",
        "            acc = ((y_train == preds) * mask).sum().item() / mask.sum().item()\n",
        "            if batch_counter % self.print_every_batch == 0:\n",
        "                self.logger('Batch {}: loss={}, acc={}, lr={}'.format(batch_counter, loss, acc, get_lr(self.optimizer)))\n",
        "            epoch_loss += loss.item()\n",
        "            epoch_acc += acc\n",
        "            for i in range(preds.shape[0]):\n",
        "                pred = preds[i].cpu().numpy()\n",
        "                predictions.append(self.train_loader.vocab.tensor2formula(pred, pretty=True))\n",
        "            batch_counter += 1\n",
        "        self.logger('Epoch finished, loss={} acc={}, lr={}'.format(epoch_loss/batch_counter, epoch_acc/batch_counter, get_lr(self.optimizer)))\n",
        "        if get_lr(self.optimizer) > self.learning_rate_min:\n",
        "            self.scheduler.step()\n",
        "        if self.current_epoch % self.teacher_forcing_ratio_decay_step == 0:\n",
        "            self.teacher_forcing_ratio = max(self.teacher_forcing_ratio_min,\n",
        "                                            self.teacher_forcing_ratio_decay * self.teacher_forcing_ratio)\n",
        "        self.current_epoch += 1\n",
        "        self.logger('training one epoch finished.')\n",
        "        return predictions, epoch_loss/batch_counter, epoch_acc/batch_counter\n",
        "\n",
        "    def evaluate(self, eval_loader, method):\n",
        "        self.logger('evaluation starts.')\n",
        "        self.model.eval()\n",
        "        start_token = self.train_loader.vocab.start_token\n",
        "        max_len = self.train_loader.max_len\n",
        "        predictions = []\n",
        "        with torch.no_grad():\n",
        "            epoch_ended = False\n",
        "            batch_counter = 0\n",
        "            epoch_loss = 0\n",
        "            epoch_acc = 0\n",
        "            while not epoch_ended:\n",
        "                if eval_loader.has_label:\n",
        "                    x_eval, y_eval, epoch_ended = eval_loader.get_next_batch()\n",
        "                    y_eval = torch.from_numpy(y_eval).long().to(self.device)\n",
        "                else:\n",
        "                    x_eval, epoch_ended = eval_loader.get_next_batch()\n",
        "                # x_eval = torch.from_numpy(x_eval).float().to(self.device)\n",
        "                x_eval = x_eval.to(self.device)\n",
        "                if eval_loader.has_label:\n",
        "                    max_len = y_eval.shape[1]\n",
        "                preds, logits, attn_weights = self.model.generate(x_eval, start_token, max_len, method)\n",
        "                if eval_loader.has_label:\n",
        "                    epoch_loss += self.criterian(logits[:, 1:, :].contiguous().view(-1, logits.shape[-1]),\n",
        "                                                 y_eval[:, 1:].contiguous().view(-1))\n",
        "                    mask = (y_eval != self.train_loader.vocab.pad_token)\n",
        "                    acc = ((y_eval == preds) * mask).sum().item() / mask.sum().item()\n",
        "                    epoch_acc += acc\n",
        "                for i in range(preds.shape[0]):\n",
        "                    pred = preds[i].cpu().numpy()\n",
        "                    predictions.append(self.train_loader.vocab.tensor2formula(pred, pretty=True))\n",
        "                batch_counter += 1\n",
        "                if batch_counter % self.print_every_batch == 0:\n",
        "                    self.logger('batch {} completed.'.format(batch_counter))\n",
        "            self.logger('evaluation finished.')\n",
        "            if eval_loader.has_label:\n",
        "                return predictions, attn_weights, epoch_loss/batch_counter, epoch_acc/batch_counter\n",
        "            else:\n",
        "                return predictions, attn_weights\n",
        "\n",
        "    def save(self, epoch, loss, acc):\n",
        "        if not os.path.isdir(self.checkpoints_dir):\n",
        "            os.mkdir(self.checkpoints_dir)\n",
        "        torch.save({\n",
        "            'epoch' : epoch,\n",
        "            'acc' : acc,\n",
        "            'loss' : loss,\n",
        "            'model_state_dict' : self.model.state_dict(),\n",
        "            'optimizer_state_dict' : self.optimizer.state_dict(),\n",
        "            'scheduler_state_dict' : self.scheduler.state_dict(),\n",
        "        }, os.path.join(self.checkpoints_dir, self.checkpoint_name(epoch)))\n",
        "        self.logger('Epoch {} saved.'.format(epoch))\n",
        "        return os.path.join(self.checkpoints_dir, self.checkpoint_name(epoch))\n",
        "\n",
        "    def load(self, checkpoint_name, cpu=False):\n",
        "        checkpoint = torch.load(checkpoint_name, map_location=torch.device('cpu') if cpu else None)\n",
        "        self.model.load_state_dict(checkpoint['model_state_dict'])\n",
        "        self.optimizer.load_state_dict(checkpoint['optimizer_state_dict'])\n",
        "        self.scheduler.load_state_dict(checkpoint['scheduler_state_dict'])\n",
        "        self.current_epoch = checkpoint['epoch']\n",
        "        self.logger('{} loaded.'.format(checkpoint_name))\n",
        "\n",
        "def get_lr(optimizer):\n",
        "    for param_group in optimizer.param_groups:\n",
        "        return param_group['lr']\n"
      ],
      "execution_count": 36,
      "outputs": []
    },
    {
      "cell_type": "code",
      "metadata": {
        "id": "275fMMyw-61j"
      },
      "source": [
        "def get_seq2seq_model(config, vocab, checkpoint_name, cpu=True):\n",
        "    cnn_model = CNN(config['cnn_params']).to(config['device'])\n",
        "\n",
        "    encoder_model = Encoder(config['cnn_params']['conv6_c'], config['encoder_hidden_size'],\n",
        "                                    config['bidirectional'], config['device']).to(config['device'])\n",
        "    vocab_size = len(vocab.token2idx.keys())\n",
        "    embedding_model = Embedding(vocab_size, config['embedding_size'], vocab.pad_token).to(config['device'])\n",
        "\n",
        "    decoder_model = AttnDecoder(config['embedding_size'], config['decoder_hidden_size'],\n",
        "                                        config['encoder_hidden_size']*(2 if config['bidirectional'] else 1), vocab_size,\n",
        "                                        config['device']).to(config['device'])\n",
        "\n",
        "    model = Model(cnn_model, encoder_model, embedding_model, decoder_model, config['device'])\n",
        "\n",
        "    checkpoint = torch.load(checkpoint_name, map_location=torch.device('cpu') if cpu else None)\n",
        "    model.load_state_dict(checkpoint['model_state_dict'])\n",
        "\n",
        "    return model"
      ],
      "execution_count": 37,
      "outputs": []
    },
    {
      "cell_type": "code",
      "metadata": {
        "id": "G7UUl7BC9hav"
      },
      "source": [
        "seq2seq_config = {\n",
        "    # ======================\n",
        "    #        pathes\n",
        "    # ======================\n",
        "\n",
        "    'formulas_train_path' : 'train.txt',\n",
        "    'formulas_validation_path' : 'validate.txt',\n",
        "    'formulas_test_path' : 'test.txt',\n",
        "    'images_train_path' : 'train_imgs',\n",
        "    'images_validation_path' : 'val_imgs',\n",
        "    'images_test_path' : 'test_imgs',\n",
        "\n",
        "    'checkpoints_dir' : 'checkpoints/',\n",
        "\n",
        "    'log_dir' : 'logs/log.txt',\n",
        "    # ======================\n",
        "    #   general parameters\n",
        "    # ======================\n",
        "    'batch_size' : 32,\n",
        "    'epochs' : 40,\n",
        "    'print_every_batch' : 100,\n",
        "    'learning_rate' : 1e-3,\n",
        "    'learning_rate_decay' : .5,\n",
        "    'learning_rate_decay_step' : 3,\n",
        "    'learning_rate_min': 1e-6,\n",
        "    'teacher_forcing_ratio' : 1,\n",
        "    'teacher_forcing_ratio_decay' : 0.95,\n",
        "    'teacher_forcing_ratio_decay_step' : 2,\n",
        "    'teacher_forcing_ratio_min': 0.7,\n",
        "    'clip' : 5,\n",
        "    'unk_token_threshold' : 10,\n",
        "    'generation_method' : 'greedy', # or 'beam-search'\n",
        "    'device' : torch.device(\"cuda\" if torch.cuda.is_available() else \"cpu\"),\n",
        "    # ======================\n",
        "    #   CNN parameters\n",
        "    # ======================\n",
        "    'cnn_params' : {\n",
        "        'conv1_c' : 64,\n",
        "        'conv1_k' : (3, 3),\n",
        "        'conv1_s' : (1, 1),\n",
        "        'conv1_p' : (1, 1),\n",
        "\n",
        "        'pool1_k' : (2, 2),\n",
        "        'pool1_s' : (2, 2),\n",
        "        'pool1_p' : (0, 0),\n",
        "\n",
        "        'conv2_c' : 128,\n",
        "        'conv2_k' : (3, 3),\n",
        "        'conv2_s' : (1, 1),\n",
        "        'conv2_p' : (1, 1),\n",
        "\n",
        "        'pool2_k' : (2, 2),\n",
        "        'pool2_s' : (2, 2),\n",
        "        'pool2_p' : (0, 0),\n",
        "\n",
        "        'conv3_c' : 256,\n",
        "        'conv3_k' : (3, 3),\n",
        "        'conv3_s' : (1, 1),\n",
        "        'conv3_p' : (1, 1),\n",
        "\n",
        "        'conv4_c' : 256,\n",
        "        'conv4_k' : (3, 3),\n",
        "        'conv4_s' : (1, 1),\n",
        "        'conv4_p' : (1, 1),\n",
        "\n",
        "        'pool3_k' : (2, 1),\n",
        "        'pool3_s' : (2, 1),\n",
        "        'pool3_p' : (0, 0),\n",
        "\n",
        "        'conv5_c' : 512,\n",
        "        'conv5_k' : (3, 3),\n",
        "        'conv5_s' : (1, 1),\n",
        "        'conv5_p' : (1, 1),\n",
        "\n",
        "        'pool4_k' : (1, 2),\n",
        "        'pool4_s' : (1, 2),\n",
        "        'pool4_p' : (0, 0),\n",
        "\n",
        "        'conv6_c' : 512,\n",
        "        'conv6_k' : (3, 3),\n",
        "        'conv6_s' : (1, 1),\n",
        "        'conv6_p' : (1, 1),\n",
        "    },\n",
        "    # ======================\n",
        "    #   seq2seq parameters\n",
        "    # ======================\n",
        "    'embedding_size' : 80,\n",
        "    'decoder_hidden_size' : 512,\n",
        "    'encoder_hidden_size' : 256,\n",
        "    'bidirectional' : True,\n",
        "}"
      ],
      "execution_count": 38,
      "outputs": []
    },
    {
      "cell_type": "code",
      "metadata": {
        "id": "zUbWQBWiccmP",
        "outputId": "e2abf2c2-f366-4e50-d2f2-b941bbeda520",
        "colab": {
          "base_uri": "https://localhost:8080/"
        }
      },
      "source": [
        "!wget https://students.mimuw.edu.pl/~mt406390/machine_learning/armin/armin_aug_100k/snapshot-15.pt\n",
        "!mv snapshot-15.pt models\n",
        "model_weights_file = 'snapshot-15.pt'"
      ],
      "execution_count": 39,
      "outputs": [
        {
          "output_type": "stream",
          "text": [
            "--2020-11-02 17:22:22--  https://students.mimuw.edu.pl/~mt406390/machine_learning/armin/armin_aug_100k/snapshot-15.pt\n",
            "Resolving students.mimuw.edu.pl (students.mimuw.edu.pl)... 193.0.96.129, 2001:6a0:5001:1::3\n",
            "Connecting to students.mimuw.edu.pl (students.mimuw.edu.pl)|193.0.96.129|:443... connected.\n",
            "HTTP request sent, awaiting response... 200 OK\n",
            "Length: 119714352 (114M)\n",
            "Saving to: ‘snapshot-15.pt’\n",
            "\n",
            "snapshot-15.pt      100%[===================>] 114.17M  3.66MB/s    in 22s     \n",
            "\n",
            "2020-11-02 17:22:45 (5.14 MB/s) - ‘snapshot-15.pt’ saved [119714352/119714352]\n",
            "\n"
          ],
          "name": "stdout"
        }
      ]
    },
    {
      "cell_type": "code",
      "metadata": {
        "id": "k8oO9wJMB3WS",
        "outputId": "a260d013-6e98-4340-e40f-267a66849100",
        "colab": {
          "base_uri": "https://localhost:8080/"
        }
      },
      "source": [
        "!wget https://students.mimuw.edu.pl/~mt406390/machine_learning/vocab.pkl\n",
        "!mkdir vocab\n",
        "!mv vocab.pkl vocab"
      ],
      "execution_count": 40,
      "outputs": [
        {
          "output_type": "stream",
          "text": [
            "--2020-11-02 17:22:45--  https://students.mimuw.edu.pl/~mt406390/machine_learning/vocab.pkl\n",
            "Resolving students.mimuw.edu.pl (students.mimuw.edu.pl)... 193.0.96.129, 2001:6a0:5001:1::3\n",
            "Connecting to students.mimuw.edu.pl (students.mimuw.edu.pl)|193.0.96.129|:443... connected.\n",
            "HTTP request sent, awaiting response... 200 OK\n",
            "Length: 2399 (2.3K)\n",
            "Saving to: ‘vocab.pkl’\n",
            "\n",
            "\rvocab.pkl             0%[                    ]       0  --.-KB/s               \rvocab.pkl           100%[===================>]   2.34K  --.-KB/s    in 0s      \n",
            "\n",
            "2020-11-02 17:22:45 (74.1 MB/s) - ‘vocab.pkl’ saved [2399/2399]\n",
            "\n"
          ],
          "name": "stdout"
        }
      ]
    },
    {
      "cell_type": "code",
      "metadata": {
        "id": "slWSihDfBGKb"
      },
      "source": [
        "def get_vocab():\n",
        "    seq2seq_config['pathes'] = ''\n",
        "    vocab = utils.Vocab(seq2seq_config)\n",
        "    return vocab"
      ],
      "execution_count": 41,
      "outputs": []
    },
    {
      "cell_type": "code",
      "metadata": {
        "id": "10rTF8YMFnlz"
      },
      "source": [
        "vocab = get_vocab()"
      ],
      "execution_count": 42,
      "outputs": []
    },
    {
      "cell_type": "code",
      "metadata": {
        "id": "dC2wT6RKue7n"
      },
      "source": [
        "from pathlib import Path\n",
        "models = Path('models')\n",
        "mdl = get_seq2seq_model(seq2seq_config, vocab, str(models / model_weights_file), cpu=True)"
      ],
      "execution_count": 43,
      "outputs": []
    },
    {
      "cell_type": "code",
      "metadata": {
        "id": "mVnsZWHgBqr5"
      },
      "source": [
        "class LatexProducerWrapper(Predictor):\n",
        "    def __init__(self, learn: Learner, seq2seq_model, vocab, gen_method, max_len):\n",
        "        super().__init__(learn)\n",
        "        self.model = seq2seq_model\n",
        "        self.vocab = vocab\n",
        "        self.gen_method = gen_method\n",
        "        self.max_len = max_len\n",
        "\n",
        "    def _get_single_pred(self, img_tensor):\n",
        "        with torch.no_grad():\n",
        "            preds, logits, attn_weights = self.model.generate(\n",
        "                img_tensor, self.vocab.start_token, self.max_len, self.gen_method\n",
        "        )\n",
        "        pred = preds[0].cpu().numpy()\n",
        "\n",
        "        return vocab.tensor2formula(pred, pretty=True)\n",
        "\n",
        "    def predict(self, img: PILImageBW):\n",
        "        return self._get_single_pred(to_device(self._transform_img(img), default_device()))\n",
        "\n",
        "seq2seq_wrap = LatexProducerWrapper(learn, mdl, vocab, 'greedy', max_len=50)"
      ],
      "execution_count": 44,
      "outputs": []
    },
    {
      "cell_type": "markdown",
      "metadata": {
        "id": "bAMaEmW-Dyr9"
      },
      "source": [
        "# Final inference"
      ]
    },
    {
      "cell_type": "code",
      "metadata": {
        "id": "t5abFwAuswkI"
      },
      "source": [
        "import matplotlib.pyplot as plt\n",
        "from matplotlib.patches import Rectangle\n",
        "\n",
        "class Inference:\n",
        "    def __init__(self, fastai_model: Model, leaf_producer: LatexProducerWrapper,\n",
        "                leaf_threshold=None):\n",
        "        self.model = fastai_model\n",
        "        self.leaf_producer = leaf_producer\n",
        "        self.MAX_DEPTH = 8\n",
        "        self.leaf_threshold = self.MAX_DEPTH if leaf_threshold is None \\\n",
        "            else leaf_threshold\n",
        "\n",
        "    def _show_pred(self, input: PILImageBW, pred: Prediction):\n",
        "        print(f'pred: {pred.op.op_id}')\n",
        "        for box in pred.bboxes:\n",
        "            plt.gca().add_patch(Rectangle((box.x, box.y), box.dx, box.dy,linewidth=1,edgecolor='green',facecolor='none'))\n",
        "        plt.imshow(input,  cmap='Greys_r')\n",
        "        # plt.axis('off')\n",
        "        plt.show()\n",
        "\n",
        "    def __call__(self, input: PILImageBW, depth=0, debug=False) -> str:\n",
        "        if depth >= self.MAX_DEPTH:\n",
        "            raise ValueError('stack overflow - your model too bad bro')\n",
        "\n",
        "        if depth >= self.leaf_threshold:\n",
        "            return self.leaf_producer.predict(input)\n",
        "\n",
        "        pred = self.model.predict(input)\n",
        "\n",
        "        if debug:\n",
        "            self._show_pred(input, pred)\n",
        "            \n",
        "\n",
        "        operands = ops_cfg[pred.op.op_id]['operands']\n",
        "        latex = ops_cfg[pred.op.op_id]['latex']\n",
        "\n",
        "        if operands == 0:\n",
        "            return self.leaf_producer.predict(input)\n",
        "        \n",
        "        inputs = [resize_and_center_pred(input, pred.bboxes[i]) for i in range(operands)]\n",
        "\n",
        "        return latex.format(*(self(inp, depth + 1, debug) for inp in inputs))"
      ],
      "execution_count": 45,
      "outputs": []
    },
    {
      "cell_type": "code",
      "metadata": {
        "id": "QRnufpeefvJH",
        "outputId": "3162a52d-b743-4abc-e60f-4510254cfa5a",
        "colab": {
          "base_uri": "https://localhost:8080/"
        }
      },
      "source": [
        "!wget https://students.mimuw.edu.pl/~mt406390/machine_learning/dataset_sota_1k_100_100_1-4.zip\n",
        "!unzip -qq dataset_sota_1k_100_100_1-4.zip -d test_set/"
      ],
      "execution_count": 46,
      "outputs": [
        {
          "output_type": "stream",
          "text": [
            "--2020-11-02 17:22:46--  https://students.mimuw.edu.pl/~mt406390/machine_learning/dataset_sota_1k_100_100_1-4.zip\n",
            "Resolving students.mimuw.edu.pl (students.mimuw.edu.pl)... 193.0.96.129, 2001:6a0:5001:1::3\n",
            "Connecting to students.mimuw.edu.pl (students.mimuw.edu.pl)|193.0.96.129|:443... connected.\n",
            "HTTP request sent, awaiting response... 200 OK\n",
            "Length: 7614642 (7.3M) [application/zip]\n",
            "Saving to: ‘dataset_sota_1k_100_100_1-4.zip’\n",
            "\n",
            "dataset_sota_1k_100 100%[===================>]   7.26M  11.0MB/s    in 0.7s    \n",
            "\n",
            "2020-11-02 17:22:47 (11.0 MB/s) - ‘dataset_sota_1k_100_100_1-4.zip’ saved [7614642/7614642]\n",
            "\n"
          ],
          "name": "stdout"
        }
      ]
    },
    {
      "cell_type": "code",
      "metadata": {
        "id": "-x9Rgxzgfyev",
        "outputId": "31249a38-0a2c-4b15-9490-4f3b6d6b0f74",
        "colab": {
          "base_uri": "https://localhost:8080/"
        }
      },
      "source": [
        "import glob\n",
        "\n",
        "test_set = Path('test_set')\n",
        "test_images = glob.glob(str(test_set / 'test_imgs' / '*.png'))\n",
        "test_images= sorted(test_images, key=lambda x: int(x.split('/')[-1].split('.')[0]))\n",
        "print(len(test_images))"
      ],
      "execution_count": 47,
      "outputs": [
        {
          "output_type": "stream",
          "text": [
            "1000\n"
          ],
          "name": "stdout"
        }
      ]
    },
    {
      "cell_type": "markdown",
      "metadata": {
        "id": "AAbHeVLb8-U3"
      },
      "source": [
        "# Recursive CNN Inference example\n",
        "\n",
        "---\n",
        "\n"
      ]
    },
    {
      "cell_type": "code",
      "metadata": {
        "id": "W3wdtrPZF-8z",
        "outputId": "a65a430e-0e08-44f0-cc68-a551424e7d86",
        "colab": {
          "base_uri": "https://localhost:8080/",
          "height": 241
        }
      },
      "source": [
        "def img_from_path(path: Path) -> PILImageBW:\n",
        "    return PILImageBW.create(path)\n",
        "\n",
        "img = img_from_path(test_images[600])\n",
        "img"
      ],
      "execution_count": 48,
      "outputs": [
        {
          "output_type": "execute_result",
          "data": {
            "image/png": "[encoded data removed]",
            "text/plain": [
              "PILImageBW mode=L size=224x224"
            ]
          },
          "metadata": {
            "tags": []
          },
          "execution_count": 48
        }
      ]
    },
    {
      "cell_type": "code",
      "metadata": {
        "id": "UVdaH19j8Ml1",
        "outputId": "18c86ed5-171d-46c9-db19-81cef85867a1",
        "colab": {
          "base_uri": "https://localhost:8080/",
          "height": 1000
        }
      },
      "source": [
        "example_infer = Inference(fastai_model, seq2seq_wrap)\n",
        "example_infer(img, debug=True)"
      ],
      "execution_count": 49,
      "outputs": [
        {
          "output_type": "stream",
          "text": [
            "pred: star\n"
          ],
          "name": "stdout"
        },
        {
          "output_type": "display_data",
          "data": {
            "image/png": "[encoded data removed]",
            "text/plain": [
              "<Figure size 432x288 with 1 Axes>"
            ]
          },
          "metadata": {
            "tags": [],
            "needs_background": "light"
          }
        },
        {
          "output_type": "stream",
          "text": [
            "pred: par\n"
          ],
          "name": "stdout"
        },
        {
          "output_type": "display_data",
          "data": {
            "image/png": "[encoded data removed]",
            "text/plain": [
              "<Figure size 432x288 with 1 Axes>"
            ]
          },
          "metadata": {
            "tags": [],
            "needs_background": "light"
          }
        },
        {
          "output_type": "stream",
          "text": [
            "pred: mul\n"
          ],
          "name": "stdout"
        },
        {
          "output_type": "display_data",
          "data": {
            "image/png": "[encoded data removed]",
            "text/plain": [
              "<Figure size 432x288 with 1 Axes>"
            ]
          },
          "metadata": {
            "tags": [],
            "needs_background": "light"
          }
        },
        {
          "output_type": "stream",
          "text": [
            "pred: gpar\n"
          ],
          "name": "stdout"
        },
        {
          "output_type": "display_data",
          "data": {
            "image/png": "[encoded data removed]",
            "text/plain": [
              "<Figure size 432x288 with 1 Axes>"
            ]
          },
          "metadata": {
            "tags": [],
            "needs_background": "light"
          }
        },
        {
          "output_type": "stream",
          "text": [
            "pred: leaf\n"
          ],
          "name": "stdout"
        },
        {
          "output_type": "display_data",
          "data": {
            "image/png": "[encoded data removed]",
            "text/plain": [
              "<Figure size 432x288 with 1 Axes>"
            ]
          },
          "metadata": {
            "tags": [],
            "needs_background": "light"
          }
        },
        {
          "output_type": "stream",
          "text": [
            "pred: leaf\n"
          ],
          "name": "stdout"
        },
        {
          "output_type": "display_data",
          "data": {
            "image/png": "[encoded data removed]",
            "text/plain": [
              "<Figure size 432x288 with 1 Axes>"
            ]
          },
          "metadata": {
            "tags": [],
            "needs_background": "light"
          }
        },
        {
          "output_type": "stream",
          "text": [
            "pred: frac\n"
          ],
          "name": "stdout"
        },
        {
          "output_type": "display_data",
          "data": {
            "image/png": "[encoded data removed]",
            "text/plain": [
              "<Figure size 432x288 with 1 Axes>"
            ]
          },
          "metadata": {
            "tags": [],
            "needs_background": "light"
          }
        },
        {
          "output_type": "stream",
          "text": [
            "pred: gpar\n"
          ],
          "name": "stdout"
        },
        {
          "output_type": "display_data",
          "data": {
            "image/png": "[encoded data removed]",
            "text/plain": [
              "<Figure size 432x288 with 1 Axes>"
            ]
          },
          "metadata": {
            "tags": [],
            "needs_background": "light"
          }
        },
        {
          "output_type": "stream",
          "text": [
            "pred: add\n"
          ],
          "name": "stdout"
        },
        {
          "output_type": "display_data",
          "data": {
            "image/png": "[encoded data removed]",
            "text/plain": [
              "<Figure size 432x288 with 1 Axes>"
            ]
          },
          "metadata": {
            "tags": [],
            "needs_background": "light"
          }
        },
        {
          "output_type": "stream",
          "text": [
            "pred: leaf\n"
          ],
          "name": "stdout"
        },
        {
          "output_type": "display_data",
          "data": {
            "image/png": "[encoded data removed]",
            "text/plain": [
              "<Figure size 432x288 with 1 Axes>"
            ]
          },
          "metadata": {
            "tags": [],
            "needs_background": "light"
          }
        },
        {
          "output_type": "stream",
          "text": [
            "pred: leaf\n"
          ],
          "name": "stdout"
        },
        {
          "output_type": "display_data",
          "data": {
            "image/png": "[encoded data removed]",
            "text/plain": [
              "<Figure size 432x288 with 1 Axes>"
            ]
          },
          "metadata": {
            "tags": [],
            "needs_background": "light"
          }
        },
        {
          "output_type": "stream",
          "text": [
            "pred: ffpar\n"
          ],
          "name": "stdout"
        },
        {
          "output_type": "display_data",
          "data": {
            "image/png": "[encoded data removed]",
            "text/plain": [
              "<Figure size 432x288 with 1 Axes>"
            ]
          },
          "metadata": {
            "tags": [],
            "needs_background": "light"
          }
        },
        {
          "output_type": "stream",
          "text": [
            "pred: pi\n"
          ],
          "name": "stdout"
        },
        {
          "output_type": "display_data",
          "data": {
            "image/png": "[encoded data removed]",
            "text/plain": [
              "<Figure size 432x288 with 1 Axes>"
            ]
          },
          "metadata": {
            "tags": [],
            "needs_background": "light"
          }
        },
        {
          "output_type": "stream",
          "text": [
            "pred: leaf\n"
          ],
          "name": "stdout"
        },
        {
          "output_type": "display_data",
          "data": {
            "image/png": "[encoded data removed]",
            "text/plain": [
              "<Figure size 432x288 with 1 Axes>"
            ]
          },
          "metadata": {
            "tags": [],
            "needs_background": "light"
          }
        },
        {
          "output_type": "execute_result",
          "data": {
            "application/vnd.google.colaboratory.intrinsic+json": {
              "type": "string"
            },
            "text/plain": [
              "'\\\\left( G \\\\left( X O \\\\right) \\\\cdot \\\\delta \\\\beta \\\\right) \\\\star \\\\frac { G \\\\left( u w + e \\\\right) } { F \\\\left( \\\\prod \\\\left( \\\\frac { \\\\sqrt { y } } { x } \\\\right) \\\\right) }'"
            ]
          },
          "metadata": {
            "tags": []
          },
          "execution_count": 49
        }
      ]
    },
    {
      "cell_type": "code",
      "metadata": {
        "id": "11tTHk5Ioavn",
        "outputId": "bafdee5f-1cc7-4a90-a87d-93a1c1b1a8ca",
        "colab": {
          "base_uri": "https://localhost:8080/"
        }
      },
      "source": [
        "!git clone https://github.com/kakainet/im2latex-1.git\n",
        "!pip install -q distance"
      ],
      "execution_count": 50,
      "outputs": [
        {
          "output_type": "stream",
          "text": [
            "Cloning into 'im2latex-1'...\n",
            "remote: Enumerating objects: 46, done.\u001b[K\n",
            "remote: Counting objects: 100% (46/46), done.\u001b[K\n",
            "remote: Compressing objects: 100% (37/37), done.\u001b[K\n",
            "remote: Total 84 (delta 23), reused 20 (delta 9), pack-reused 38\u001b[K\n",
            "Unpacking objects: 100% (84/84), done.\n",
            "\u001b[K     |████████████████████████████████| 184kB 8.0MB/s \n",
            "\u001b[?25h  Building wheel for distance (setup.py) ... \u001b[?25l\u001b[?25hdone\n"
          ],
          "name": "stdout"
        }
      ]
    },
    {
      "cell_type": "code",
      "metadata": {
        "id": "di7ivBVCogGx"
      },
      "source": [
        "import subprocess\n",
        "\n",
        "preds_path = test_set / 'preds.txt'\n",
        "predicted_path = test_set / 'test.txt'\n",
        "\n",
        "def bleu_and_edit_distance(predictions, predicted_path, target_path):\n",
        "    with open(predicted_path, 'w+') as f:\n",
        "        for pred in predictions:\n",
        "            f.write(pred+'\\n')\n",
        "    output = subprocess.check_output('python im2latex-1/src/Evaluation/bleu_score.py --target-formulas {} --predicted-formulas {} --ngram 5'.\n",
        "                format(target_path, predicted_path), shell=True)\n",
        "    output = str(output)\n",
        "    bleu_message = output[output.find('BLEU'):-3]\n",
        "    output = subprocess.check_output('python im2latex-1/src/Evaluation/edit_distance.py --target-formulas {} --predicted-formulas {}'.\n",
        "                format(target_path, predicted_path), shell=True)\n",
        "    output = str(output)\n",
        "    edit_message = output[output.find('Edit'):-3]\n",
        "    return bleu_message, edit_message"
      ],
      "execution_count": 51,
      "outputs": []
    },
    {
      "cell_type": "code",
      "metadata": {
        "id": "cpAkvOseszZs"
      },
      "source": [
        "from tqdm import tqdm\n",
        "\n",
        "def get_results(leaf_threshold):\n",
        "    infer = Inference(fastai_model, seq2seq_wrap, leaf_threshold=leaf_threshold)\n",
        "\n",
        "    predictions = [infer(img_from_path(img_path)) for img_path in tqdm(test_images)]\n",
        "\n",
        "    return bleu_and_edit_distance(predictions, str(preds_path), str(predicted_path))"
      ],
      "execution_count": 52,
      "outputs": []
    },
    {
      "cell_type": "markdown",
      "metadata": {
        "id": "0d_Bx_pf7-BC"
      },
      "source": [
        "# Results"
      ]
    },
    {
      "cell_type": "code",
      "metadata": {
        "id": "SpNHDjC-tSA8",
        "outputId": "7e8ec354-feed-4054-d3bf-17cef89a6d9c",
        "colab": {
          "base_uri": "https://localhost:8080/"
        }
      },
      "source": [
        "# Vanilla seq2seq model\n",
        "get_results(leaf_threshold=0)"
      ],
      "execution_count": null,
      "outputs": [
        {
          "output_type": "stream",
          "text": [
            "100%|██████████| 1000/1000 [16:52<00:00,  1.01s/it]\n"
          ],
          "name": "stderr"
        },
        {
          "output_type": "execute_result",
          "data": {
            "text/plain": [
              "('BLEU Score: 0.812304', 'Edit Distance Accuracy: 0.781447')"
            ]
          },
          "metadata": {
            "tags": []
          },
          "execution_count": 47
        }
      ]
    },
    {
      "cell_type": "code",
      "metadata": {
        "id": "CHoW11Q1uAsq",
        "outputId": "204ac164-4475-4262-bf7a-677b2f545753",
        "colab": {
          "base_uri": "https://localhost:8080/"
        }
      },
      "source": [
        "# One prediction of our CNN model, then seq2seq model\n",
        "get_results(leaf_threshold=1)"
      ],
      "execution_count": null,
      "outputs": [
        {
          "output_type": "stream",
          "text": [
            "100%|██████████| 1000/1000 [25:35<00:00,  1.54s/it]\n"
          ],
          "name": "stderr"
        },
        {
          "output_type": "execute_result",
          "data": {
            "text/plain": [
              "('BLEU Score: 0.891221', 'Edit Distance Accuracy: 0.854896')"
            ]
          },
          "metadata": {
            "tags": []
          },
          "execution_count": 48
        }
      ]
    },
    {
      "cell_type": "code",
      "metadata": {
        "id": "zb-MBDiauJC5",
        "outputId": "58be9b30-a4fe-47df-d24c-901a5a8f9f74",
        "colab": {
          "base_uri": "https://localhost:8080/"
        }
      },
      "source": [
        "get_results(leaf_threshold=2)"
      ],
      "execution_count": null,
      "outputs": [
        {
          "output_type": "stream",
          "text": [
            "100%|██████████| 1000/1000 [30:55<00:00,  1.86s/it]\n"
          ],
          "name": "stderr"
        },
        {
          "output_type": "execute_result",
          "data": {
            "text/plain": [
              "('BLEU Score: 0.871733', 'Edit Distance Accuracy: 0.824075')"
            ]
          },
          "metadata": {
            "tags": []
          },
          "execution_count": 49
        }
      ]
    },
    {
      "cell_type": "code",
      "metadata": {
        "id": "GFZOr402nNbi",
        "outputId": "8f9f56bc-521a-47cc-d937-7749855c2956",
        "colab": {
          "base_uri": "https://localhost:8080/"
        }
      },
      "source": [
        "get_results(leaf_threshold=3)"
      ],
      "execution_count": null,
      "outputs": [
        {
          "output_type": "stream",
          "text": [
            "100%|██████████| 1000/1000 [40:18<00:00,  2.42s/it]\n"
          ],
          "name": "stderr"
        },
        {
          "output_type": "execute_result",
          "data": {
            "text/plain": [
              "('BLEU Score: 0.832564', 'Edit Distance Accuracy: 0.755858')"
            ]
          },
          "metadata": {
            "tags": []
          },
          "execution_count": 50
        }
      ]
    },
    {
      "cell_type": "code",
      "metadata": {
        "id": "zt6wmfleuUMf",
        "outputId": "61d89bec-377b-48f0-f482-b5152101ad5f",
        "colab": {
          "base_uri": "https://localhost:8080/"
        }
      },
      "source": [
        "# CNN performs all predictions - seq2seq used only for leaves\n",
        "get_results(leaf_threshold=4)"
      ],
      "execution_count": null,
      "outputs": [
        {
          "output_type": "stream",
          "text": [
            "100%|██████████| 1000/1000 [44:22<00:00,  2.66s/it]\n"
          ],
          "name": "stderr"
        },
        {
          "output_type": "execute_result",
          "data": {
            "text/plain": [
              "('BLEU Score: 0.802975', 'Edit Distance Accuracy: 0.682920')"
            ]
          },
          "metadata": {
            "tags": []
          },
          "execution_count": 51
        }
      ]
    }
  ]
}